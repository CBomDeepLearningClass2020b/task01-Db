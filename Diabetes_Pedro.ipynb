{
  "nbformat": 4,
  "nbformat_minor": 0,
  "metadata": {
    "kernelspec": {
      "display_name": "Python 3",
      "language": "python",
      "name": "python3"
    },
    "language_info": {
      "codemirror_mode": {
        "name": "ipython",
        "version": 3
      },
      "file_extension": ".py",
      "mimetype": "text/x-python",
      "name": "python",
      "nbconvert_exporter": "python",
      "pygments_lexer": "ipython3",
      "version": "3.7.4"
    },
    "colab": {
      "name": "Diabetes.ipynb",
      "provenance": [],
      "toc_visible": true
    },
    "accelerator": "GPU"
  },
  "cells": [
    {
      "cell_type": "markdown",
      "metadata": {
        "id": "fsffgYczM5Bv"
      },
      "source": [
        "# Diagnóstico de Diabetes"
      ]
    },
    {
      "cell_type": "markdown",
      "metadata": {
        "id": "WY_5Ho-aM5B0"
      },
      "source": [
        "Diabetes é uma doença é uma doença metabólica crônica, caracterizada pelo grau elevado de glicose (açucar) no sangue, causando danos severos ao coração, às veias, olhos e nervos, segundo a Organização Mundial da Saúde (OMS). Ainda de acordo com a OMS, 422 milhões de pessoas no mundo possuem diabetes e 1.6 milhões morrem todos os anos devido à diabetes.\n",
        "\n",
        "Neste programa, o computador aprenderá a reconhecer os padrões importantes que caracterizam o diagnóstico de diabetes. Para isso, utilizamos uma série de dados organizados em uma tabela com vários indicadores de risco de diabetes, incluindo idade, pressão sanguínea, nível de glicose no sangue, etc.\n",
        "\n",
        "| Nº gravidez | Glicose (mg/dL) | Pressão Sanguínea (mmHg) | Espessura da pele ($\\mu$m) | Insulina | BMI | DPF | Idade | Resultado\n",
        "| --- | --- | --- | --- | --- | --- | --- | --- | --- |\n",
        "| 6 | 148 | 72 | 35 | 0 | 33.6 | 627 | 50 | Sim |\n",
        "|1 | 85 | 66 | 29 | 0 | 26.6 | 351 | 31 | Não |\n",
        "\n",
        "Para o programa, nossa tabela de dados vai identificar \"sim\" como 1, e \"não\" como 0.\n",
        "\n",
        "Começaremos o programa importanto os pacotes importantes para a criação da rede neural, treino, teste e avaliação dela. Para este programa, usamos o pacote \"pandas\" para importar nossos dados, o \"numpy\" para utilizar funções e conceitos matemáticos, o \"matplotlib\" para criar os gráficos necessários, o \"keras\" para importar bibliotecas que criam as redes neurais e as camadas delas e por ultimo o \"scipy\" para realizar integrais que eventualmente serão utilizadas."
      ]
    },
    {
      "cell_type": "code",
      "metadata": {
        "id": "K06JLwfWM5B5"
      },
      "source": [
        "import pandas as pd\n",
        "import numpy as np\n",
        "import matplotlib.pyplot as plt\n",
        "from keras import models\n",
        "from keras import layers\n",
        "from scipy.integrate import simps"
      ],
      "execution_count": null,
      "outputs": []
    },
    {
      "cell_type": "markdown",
      "metadata": {
        "id": "7zJpsph-M5Cc"
      },
      "source": [
        "Com nossos pacotes prontos, precisamos começar importanto nossos dados com a biblioteca do \"pandas\". Para facilitar, já iremos transformar estes dados em um array numérico"
      ]
    },
    {
      "cell_type": "code",
      "metadata": {
        "id": "wpSThlV5M5Cf"
      },
      "source": [
        "Data = pd.read_csv(\"https://raw.githubusercontent.com/PedroHPCintra//Deep-Learning/master/Pima-Diabetes.csv\")\n",
        "\n",
        "#Transformar os dados em um array\n",
        "Data = np.array(Data)"
      ],
      "execution_count": null,
      "outputs": []
    },
    {
      "cell_type": "markdown",
      "metadata": {
        "id": "vU1Qt2CCM5Cu"
      },
      "source": [
        "Perfeito, agora precisamos dividir estes dados em treino e teste, ou seja, parte destes dados serão usados para treinar a rede neural a identificar os padrões relevantes e outra parte dos dados será usada para testar a acurácia da nossa rede neural após o treino. Aqui, as 8 primeiras colunas dos nossos dados serão os parâmetros de avaliação e a 9º coluna compõe o gabarito. Também iremos dividir o tamanho da tabela da seguinte forma, 80% dos dados serão usados para treinar a rede neural e 20% para testa-la."
      ]
    },
    {
      "cell_type": "code",
      "metadata": {
        "id": "Nt_2w6dJM5Cx"
      },
      "source": [
        "train_data = Data[:np.int(0.8*len(Data)),:8] #Train data\n",
        "train_label = Data[:np.int(0.8*len(Data)),8] #Gabarito do treino\n",
        "\n",
        "test_data = Data[np.int(0.8*len(Data)):,:8] #Dados de teste\n",
        "test_label = Data[np.int(0.8*len(Data)):,8] #Gabarito do teste"
      ],
      "execution_count": null,
      "outputs": []
    },
    {
      "cell_type": "markdown",
      "metadata": {
        "id": "QhaP_BDQM5DC"
      },
      "source": [
        "Tudo ótimo até aqui, seguindo a diante, nossa próxima tarefa é construir a rede neural que irá avaliar os dados. O pacote \"models\" dentro do \"keras\" irá definir para nós o tipo de rede neural que construiremos enquanto o pacote \"layers\" nos permite definir cada camada da rede neural. Aqui usaremos uma rede neural sequencial, ou seja, as camadas estão organizadas em sequência. Usaremos camadas de rede densa, o que quer dizer que todos os neurônios da camada estão conectados à camada anterior. Nossa função de ativação do neurônio será uma sigmoide!\n",
        "\n",
        "Além disso, também incluiremos camadas de dropout entre as camadas densas para evitar um overfitting. O dropout irá excluir aleatoriamente alguns neurônios, impedindo que os padrões aprendidos pela rede neural sejam específicos demais para os dados de treino. Basicamente, nós perdemos parte da informação para que nosso padrão encontrado seja generalizado o suficiente."
      ]
    },
    {
      "cell_type": "code",
      "metadata": {
        "id": "9pqHvc7iM5DF"
      },
      "source": [
        "network = models.Sequential()\n",
        "network.add(layers.Dense(1000, activation = 'sigmoid', input_shape = (8,)))\n",
        "network.add(layers.Dropout(0.3))\n",
        "network.add(layers.Dense(500, activation = 'sigmoid'))\n",
        "network.add(layers.Dropout(0.2))\n",
        "network.add(layers.Dense(1, activation = 'sigmoid'))\n",
        "network.compile(optimizer = 'adam',\n",
        "                loss = 'binary_crossentropy',\n",
        "                metrics = ['accuracy'])"
      ],
      "execution_count": null,
      "outputs": []
    },
    {
      "cell_type": "markdown",
      "metadata": {
        "id": "2Flwas-uM5DT"
      },
      "source": [
        "Vamos agora treinar a rede neural com os dados. Devemos determinar agora as épocas de treino. Na primeira época a rede neural atribuirá algumas condições iniciais para os pesos de cada uma das 8 variáveis, após o treino a rede irá encontrar um valor para os pesos que será mais adequado para o modelo. Na época seguinte, o programa irá avaliar os dados novamente, mas as condições iniciais serão aquelas que ele anterioremente achou como sendo mais adequadas. E assim por diante até ele terminar todas as épocas que determinamos.\n",
        "\n",
        "Outro parâmetro importante é o \"batch_size\" que vai determinar a taxa de atualização dos pesos dados para cada entrada."
      ]
    },
    {
      "cell_type": "code",
      "metadata": {
        "id": "QdGQ6Om-M5DW",
        "colab": {
          "base_uri": "https://localhost:8080/"
        },
        "outputId": "c531273a-ea6a-4470-ca75-9a6e7de42f92"
      },
      "source": [
        "model = network.fit(train_data, train_label, epochs = 100, batch_size = 605)"
      ],
      "execution_count": null,
      "outputs": [
        {
          "output_type": "stream",
          "text": [
            "Epoch 1/100\n",
            "1/1 [==============================] - 0s 3ms/step - loss: 0.6848 - accuracy: 0.6612\n",
            "Epoch 2/100\n",
            "1/1 [==============================] - 0s 2ms/step - loss: 1.5473 - accuracy: 0.3455\n",
            "Epoch 3/100\n",
            "1/1 [==============================] - 0s 2ms/step - loss: 0.7104 - accuracy: 0.5322\n",
            "Epoch 4/100\n",
            "1/1 [==============================] - 0s 1ms/step - loss: 0.8264 - accuracy: 0.6545\n",
            "Epoch 5/100\n",
            "1/1 [==============================] - 0s 2ms/step - loss: 1.0502 - accuracy: 0.6545\n",
            "Epoch 6/100\n",
            "1/1 [==============================] - 0s 2ms/step - loss: 1.0367 - accuracy: 0.6545\n",
            "Epoch 7/100\n",
            "1/1 [==============================] - 0s 2ms/step - loss: 0.8531 - accuracy: 0.6545\n",
            "Epoch 8/100\n",
            "1/1 [==============================] - 0s 3ms/step - loss: 0.6516 - accuracy: 0.6595\n",
            "Epoch 9/100\n",
            "1/1 [==============================] - 0s 2ms/step - loss: 0.6365 - accuracy: 0.6645\n",
            "Epoch 10/100\n",
            "1/1 [==============================] - 0s 3ms/step - loss: 0.7823 - accuracy: 0.4529\n",
            "Epoch 11/100\n",
            "1/1 [==============================] - 0s 3ms/step - loss: 0.8213 - accuracy: 0.4397\n",
            "Epoch 12/100\n",
            "1/1 [==============================] - 0s 2ms/step - loss: 0.7325 - accuracy: 0.5091\n",
            "Epoch 13/100\n",
            "1/1 [==============================] - 0s 2ms/step - loss: 0.6377 - accuracy: 0.6413\n",
            "Epoch 14/100\n",
            "1/1 [==============================] - 0s 2ms/step - loss: 0.6230 - accuracy: 0.6496\n",
            "Epoch 15/100\n",
            "1/1 [==============================] - 0s 3ms/step - loss: 0.6771 - accuracy: 0.6529\n",
            "Epoch 16/100\n",
            "1/1 [==============================] - 0s 2ms/step - loss: 0.7096 - accuracy: 0.6512\n",
            "Epoch 17/100\n",
            "1/1 [==============================] - 0s 2ms/step - loss: 0.7082 - accuracy: 0.6579\n",
            "Epoch 18/100\n",
            "1/1 [==============================] - 0s 2ms/step - loss: 0.6715 - accuracy: 0.6579\n",
            "Epoch 19/100\n",
            "1/1 [==============================] - 0s 2ms/step - loss: 0.6221 - accuracy: 0.6711\n",
            "Epoch 20/100\n",
            "1/1 [==============================] - 0s 3ms/step - loss: 0.5920 - accuracy: 0.6777\n",
            "Epoch 21/100\n",
            "1/1 [==============================] - 0s 1ms/step - loss: 0.6243 - accuracy: 0.6413\n",
            "Epoch 22/100\n",
            "1/1 [==============================] - 0s 1ms/step - loss: 0.6363 - accuracy: 0.6264\n",
            "Epoch 23/100\n",
            "1/1 [==============================] - 0s 2ms/step - loss: 0.6575 - accuracy: 0.6132\n",
            "Epoch 24/100\n",
            "1/1 [==============================] - 0s 5ms/step - loss: 0.6190 - accuracy: 0.6661\n",
            "Epoch 25/100\n",
            "1/1 [==============================] - 0s 3ms/step - loss: 0.5936 - accuracy: 0.6678\n",
            "Epoch 26/100\n",
            "1/1 [==============================] - 0s 3ms/step - loss: 0.5762 - accuracy: 0.7025\n",
            "Epoch 27/100\n",
            "1/1 [==============================] - 0s 3ms/step - loss: 0.5968 - accuracy: 0.6909\n",
            "Epoch 28/100\n",
            "1/1 [==============================] - 0s 3ms/step - loss: 0.5964 - accuracy: 0.6893\n",
            "Epoch 29/100\n",
            "1/1 [==============================] - 0s 3ms/step - loss: 0.6006 - accuracy: 0.6893\n",
            "Epoch 30/100\n",
            "1/1 [==============================] - 0s 2ms/step - loss: 0.5977 - accuracy: 0.6810\n",
            "Epoch 31/100\n",
            "1/1 [==============================] - 0s 3ms/step - loss: 0.5928 - accuracy: 0.6860\n",
            "Epoch 32/100\n",
            "1/1 [==============================] - 0s 2ms/step - loss: 0.5690 - accuracy: 0.7025\n",
            "Epoch 33/100\n",
            "1/1 [==============================] - 0s 3ms/step - loss: 0.5556 - accuracy: 0.7207\n",
            "Epoch 34/100\n",
            "1/1 [==============================] - 0s 5ms/step - loss: 0.5696 - accuracy: 0.7074\n",
            "Epoch 35/100\n",
            "1/1 [==============================] - 0s 3ms/step - loss: 0.5770 - accuracy: 0.6876\n",
            "Epoch 36/100\n",
            "1/1 [==============================] - 0s 2ms/step - loss: 0.5627 - accuracy: 0.6992\n",
            "Epoch 37/100\n",
            "1/1 [==============================] - 0s 3ms/step - loss: 0.5462 - accuracy: 0.7190\n",
            "Epoch 38/100\n",
            "1/1 [==============================] - 0s 3ms/step - loss: 0.5368 - accuracy: 0.7355\n",
            "Epoch 39/100\n",
            "1/1 [==============================] - 0s 6ms/step - loss: 0.5587 - accuracy: 0.7107\n",
            "Epoch 40/100\n",
            "1/1 [==============================] - 0s 1ms/step - loss: 0.5644 - accuracy: 0.7041\n",
            "Epoch 41/100\n",
            "1/1 [==============================] - 0s 4ms/step - loss: 0.5479 - accuracy: 0.7074\n",
            "Epoch 42/100\n",
            "1/1 [==============================] - 0s 3ms/step - loss: 0.5424 - accuracy: 0.7207\n",
            "Epoch 43/100\n",
            "1/1 [==============================] - 0s 3ms/step - loss: 0.5470 - accuracy: 0.7207\n",
            "Epoch 44/100\n",
            "1/1 [==============================] - 0s 9ms/step - loss: 0.5501 - accuracy: 0.7372\n",
            "Epoch 45/100\n",
            "1/1 [==============================] - 0s 2ms/step - loss: 0.5335 - accuracy: 0.7438\n",
            "Epoch 46/100\n",
            "1/1 [==============================] - 0s 4ms/step - loss: 0.5412 - accuracy: 0.7190\n",
            "Epoch 47/100\n",
            "1/1 [==============================] - 0s 2ms/step - loss: 0.5295 - accuracy: 0.7207\n",
            "Epoch 48/100\n",
            "1/1 [==============================] - 0s 3ms/step - loss: 0.5280 - accuracy: 0.7471\n",
            "Epoch 49/100\n",
            "1/1 [==============================] - 0s 3ms/step - loss: 0.5434 - accuracy: 0.7157\n",
            "Epoch 50/100\n",
            "1/1 [==============================] - 0s 4ms/step - loss: 0.5300 - accuracy: 0.7471\n",
            "Epoch 51/100\n",
            "1/1 [==============================] - 0s 1ms/step - loss: 0.5271 - accuracy: 0.7339\n",
            "Epoch 52/100\n",
            "1/1 [==============================] - 0s 2ms/step - loss: 0.5159 - accuracy: 0.7388\n",
            "Epoch 53/100\n",
            "1/1 [==============================] - 0s 3ms/step - loss: 0.5228 - accuracy: 0.7289\n",
            "Epoch 54/100\n",
            "1/1 [==============================] - 0s 3ms/step - loss: 0.5187 - accuracy: 0.7438\n",
            "Epoch 55/100\n",
            "1/1 [==============================] - 0s 2ms/step - loss: 0.5135 - accuracy: 0.7438\n",
            "Epoch 56/100\n",
            "1/1 [==============================] - 0s 2ms/step - loss: 0.5169 - accuracy: 0.7488\n",
            "Epoch 57/100\n",
            "1/1 [==============================] - 0s 3ms/step - loss: 0.5109 - accuracy: 0.7273\n",
            "Epoch 58/100\n",
            "1/1 [==============================] - 0s 2ms/step - loss: 0.4970 - accuracy: 0.7504\n",
            "Epoch 59/100\n",
            "1/1 [==============================] - 0s 3ms/step - loss: 0.5051 - accuracy: 0.7438\n",
            "Epoch 60/100\n",
            "1/1 [==============================] - 0s 4ms/step - loss: 0.5003 - accuracy: 0.7405\n",
            "Epoch 61/100\n",
            "1/1 [==============================] - 0s 2ms/step - loss: 0.4817 - accuracy: 0.7702\n",
            "Epoch 62/100\n",
            "1/1 [==============================] - 0s 4ms/step - loss: 0.4970 - accuracy: 0.7438\n",
            "Epoch 63/100\n",
            "1/1 [==============================] - 0s 2ms/step - loss: 0.4830 - accuracy: 0.7603\n",
            "Epoch 64/100\n",
            "1/1 [==============================] - 0s 4ms/step - loss: 0.4989 - accuracy: 0.7455\n",
            "Epoch 65/100\n",
            "1/1 [==============================] - 0s 1ms/step - loss: 0.4823 - accuracy: 0.7603\n",
            "Epoch 66/100\n",
            "1/1 [==============================] - 0s 3ms/step - loss: 0.4943 - accuracy: 0.7669\n",
            "Epoch 67/100\n",
            "1/1 [==============================] - 0s 2ms/step - loss: 0.4871 - accuracy: 0.7620\n",
            "Epoch 68/100\n",
            "1/1 [==============================] - 0s 2ms/step - loss: 0.4761 - accuracy: 0.7719\n",
            "Epoch 69/100\n",
            "1/1 [==============================] - 0s 2ms/step - loss: 0.4851 - accuracy: 0.7537\n",
            "Epoch 70/100\n",
            "1/1 [==============================] - 0s 3ms/step - loss: 0.4827 - accuracy: 0.7587\n",
            "Epoch 71/100\n",
            "1/1 [==============================] - 0s 3ms/step - loss: 0.4984 - accuracy: 0.7537\n",
            "Epoch 72/100\n",
            "1/1 [==============================] - 0s 2ms/step - loss: 0.4658 - accuracy: 0.7835\n",
            "Epoch 73/100\n",
            "1/1 [==============================] - 0s 5ms/step - loss: 0.4779 - accuracy: 0.7570\n",
            "Epoch 74/100\n",
            "1/1 [==============================] - 0s 3ms/step - loss: 0.4640 - accuracy: 0.7620\n",
            "Epoch 75/100\n",
            "1/1 [==============================] - 0s 3ms/step - loss: 0.4742 - accuracy: 0.7603\n",
            "Epoch 76/100\n",
            "1/1 [==============================] - 0s 4ms/step - loss: 0.4810 - accuracy: 0.7554\n",
            "Epoch 77/100\n",
            "1/1 [==============================] - 0s 3ms/step - loss: 0.4582 - accuracy: 0.7983\n",
            "Epoch 78/100\n",
            "1/1 [==============================] - 0s 4ms/step - loss: 0.4642 - accuracy: 0.7785\n",
            "Epoch 79/100\n",
            "1/1 [==============================] - 0s 3ms/step - loss: 0.4562 - accuracy: 0.7851\n",
            "Epoch 80/100\n",
            "1/1 [==============================] - 0s 2ms/step - loss: 0.4546 - accuracy: 0.7934\n",
            "Epoch 81/100\n",
            "1/1 [==============================] - 0s 3ms/step - loss: 0.4581 - accuracy: 0.7884\n",
            "Epoch 82/100\n",
            "1/1 [==============================] - 0s 3ms/step - loss: 0.4562 - accuracy: 0.7835\n",
            "Epoch 83/100\n",
            "1/1 [==============================] - 0s 3ms/step - loss: 0.4620 - accuracy: 0.7636\n",
            "Epoch 84/100\n",
            "1/1 [==============================] - 0s 3ms/step - loss: 0.4612 - accuracy: 0.7835\n",
            "Epoch 85/100\n",
            "1/1 [==============================] - 0s 2ms/step - loss: 0.4698 - accuracy: 0.7669\n",
            "Epoch 86/100\n",
            "1/1 [==============================] - 0s 3ms/step - loss: 0.4573 - accuracy: 0.7802\n",
            "Epoch 87/100\n",
            "1/1 [==============================] - 0s 2ms/step - loss: 0.4578 - accuracy: 0.7802\n",
            "Epoch 88/100\n",
            "1/1 [==============================] - 0s 3ms/step - loss: 0.4612 - accuracy: 0.7752\n",
            "Epoch 89/100\n",
            "1/1 [==============================] - 0s 4ms/step - loss: 0.4573 - accuracy: 0.7686\n",
            "Epoch 90/100\n",
            "1/1 [==============================] - 0s 3ms/step - loss: 0.4511 - accuracy: 0.7818\n",
            "Epoch 91/100\n",
            "1/1 [==============================] - 0s 7ms/step - loss: 0.4483 - accuracy: 0.7835\n",
            "Epoch 92/100\n",
            "1/1 [==============================] - 0s 5ms/step - loss: 0.4445 - accuracy: 0.7884\n",
            "Epoch 93/100\n",
            "1/1 [==============================] - 0s 4ms/step - loss: 0.4424 - accuracy: 0.7934\n",
            "Epoch 94/100\n",
            "1/1 [==============================] - 0s 3ms/step - loss: 0.4516 - accuracy: 0.7868\n",
            "Epoch 95/100\n",
            "1/1 [==============================] - 0s 3ms/step - loss: 0.4415 - accuracy: 0.8050\n",
            "Epoch 96/100\n",
            "1/1 [==============================] - 0s 3ms/step - loss: 0.4469 - accuracy: 0.7901\n",
            "Epoch 97/100\n",
            "1/1 [==============================] - 0s 4ms/step - loss: 0.4554 - accuracy: 0.7785\n",
            "Epoch 98/100\n",
            "1/1 [==============================] - 0s 3ms/step - loss: 0.4570 - accuracy: 0.7702\n",
            "Epoch 99/100\n",
            "1/1 [==============================] - 0s 2ms/step - loss: 0.4534 - accuracy: 0.7835\n",
            "Epoch 100/100\n",
            "1/1 [==============================] - 0s 4ms/step - loss: 0.4402 - accuracy: 0.7802\n"
          ],
          "name": "stdout"
        }
      ]
    },
    {
      "cell_type": "markdown",
      "metadata": {
        "id": "AZ7osf2bM5Dm"
      },
      "source": [
        "Após o treino, nossa rede neural acertou 77.7% das vezes. Legal, vamos agora testar o modelo nos dados de teste"
      ]
    },
    {
      "cell_type": "code",
      "metadata": {
        "id": "GQg6EvxhM5Do",
        "colab": {
          "base_uri": "https://localhost:8080/"
        },
        "outputId": "e5a1655e-45ec-45e0-b6da-3dcd83bbd4c8"
      },
      "source": [
        "test_loss, test_acc  = network.evaluate(test_data, test_label)\n",
        "print('test_acc = ', test_acc)"
      ],
      "execution_count": null,
      "outputs": [
        {
          "output_type": "stream",
          "text": [
            "5/5 [==============================] - 0s 3ms/step - loss: 0.4968 - accuracy: 0.7829\n",
            "test_acc =  0.7828947305679321\n"
          ],
          "name": "stdout"
        }
      ]
    },
    {
      "cell_type": "code",
      "metadata": {
        "id": "haTRW-TFNlLf",
        "colab": {
          "base_uri": "https://localhost:8080/",
          "height": 287
        },
        "outputId": "e2aa3a8d-e588-4c3d-cf15-84522dec6ce5"
      },
      "source": [
        "plt.plot(model.history['loss'])"
      ],
      "execution_count": null,
      "outputs": [
        {
          "output_type": "execute_result",
          "data": {
            "text/plain": [
              "[<matplotlib.lines.Line2D at 0x7f8ec06f6278>]"
            ]
          },
          "metadata": {
            "tags": []
          },
          "execution_count": 7
        },
        {
          "output_type": "display_data",
          "data": {
            "image/png": "[encoded data removed]",
            "text/plain": [
              "<Figure size 432x288 with 1 Axes>"
            ]
          },
          "metadata": {
            "tags": [],
            "needs_background": "light"
          }
        }
      ]
    },
    {
      "cell_type": "code",
      "metadata": {
        "id": "O9Jt88bYN-QJ",
        "colab": {
          "base_uri": "https://localhost:8080/",
          "height": 283
        },
        "outputId": "36e53717-90d0-4c75-91ac-c71b2b376ed3"
      },
      "source": [
        "plt.plot(model.history['accuracy'])"
      ],
      "execution_count": null,
      "outputs": [
        {
          "output_type": "execute_result",
          "data": {
            "text/plain": [
              "[<matplotlib.lines.Line2D at 0x7f8ea0c8ef28>]"
            ]
          },
          "metadata": {
            "tags": []
          },
          "execution_count": 8
        },
        {
          "output_type": "display_data",
          "data": {
            "image/png": "[encoded data removed]",
            "text/plain": [
              "<Figure size 432x288 with 1 Axes>"
            ]
          },
          "metadata": {
            "tags": [],
            "needs_background": "light"
          }
        }
      ]
    },
    {
      "cell_type": "markdown",
      "metadata": {
        "id": "b_r4MFtHM5Dy"
      },
      "source": [
        "Após o teste, a rede neural acertou 76.3% dos resultados!\n",
        "\n",
        "Uma outra forma de observarmos o desempenho da nossa rede é através da curva ROC. ROC quer dizer Reciever Operating Characteristic, e a curva ROC nos da a performance do nosso modelo em termos de dois parâmetros, a taxa de falso positivos (FPR) e a taxa de verdadeiros positivos (TPR).\n",
        "\n",
        "Cada um deles é calculado da seguinte forma\n",
        "\n",
        "$$TPR = \\frac{TP}{TP + FN}$$\n",
        "\n",
        "$$FPR = \\frac{FP}{FP + TN}$$\n",
        "\n",
        "A área embaixo da curva ROC nos da a porcentagem de previsões corretas pelo modelo"
      ]
    },
    {
      "cell_type": "code",
      "metadata": {
        "id": "vZjstHT9M5Dz",
        "colab": {
          "base_uri": "https://localhost:8080/",
          "height": 313
        },
        "outputId": "f58e2d77-ae9d-4df1-d04c-6b3815bb59e5"
      },
      "source": [
        "pred = network.predict(test_data) #gera previsões para os dados de teste\n",
        "\n",
        "th = np.linspace(0, 1, 100) #crio um threshold the classificação que vai variar\n",
        "\n",
        "def ROC(th, pred, test_label):\n",
        "    FPR = np.zeros(len(th))\n",
        "    TPR = np.zeros(len(th))\n",
        "    \n",
        "    N = pred[np.where(test_label == 0)]\n",
        "    P = pred[np.where(test_label == 1)]\n",
        "    \n",
        "    for i in range(len(th)):\n",
        "        FN = len(np.where(P <= th[i])[0])\n",
        "        FP = len(np.where(N > th[i])[0])\n",
        "        TN = len(np.where(N <= th[i])[0])\n",
        "        TP = len(np.where(P > th[i])[0])\n",
        "        \n",
        "        FPR[i] = FP/(FP + TN)\n",
        "        TPR[i] = TP/(TP + FN)\n",
        "        \n",
        "        result = np.concatenate((FPR, TPR)).reshape(2, len(th))\n",
        "        \n",
        "    return result[np.argsort(result[:,0])]\n",
        "\n",
        "plt.grid(True, alpha = 0.4)\n",
        "plt.plot(*ROC(th, pred, test_label), color = 'blue')\n",
        "plt.xlabel('False positive rate')\n",
        "plt.ylabel('True positive rate')\n",
        "plt.title('ROC curve')"
      ],
      "execution_count": null,
      "outputs": [
        {
          "output_type": "execute_result",
          "data": {
            "text/plain": [
              "Text(0.5, 1.0, 'ROC curve')"
            ]
          },
          "metadata": {
            "tags": []
          },
          "execution_count": 9
        },
        {
          "output_type": "display_data",
          "data": {
            "image/png": "[encoded data removed]",
            "text/plain": [
              "<Figure size 432x288 with 1 Axes>"
            ]
          },
          "metadata": {
            "tags": [],
            "needs_background": "light"
          }
        }
      ]
    },
    {
      "cell_type": "code",
      "metadata": {
        "id": "Fdd4TNILM5D6",
        "colab": {
          "base_uri": "https://localhost:8080/"
        },
        "outputId": "ea8fd573-0a8f-4444-b5ef-45d3bc762156"
      },
      "source": [
        "roc = ROC(th, pred, test_label).T\n",
        "\n",
        "# Exclui valores repetidos para a integração\n",
        "r = roc[:1]\n",
        "for i in range(1,len(roc)):\n",
        "\n",
        "  if (roc[i,0] != roc[i-1,0]):\n",
        "\n",
        "    r = np.append(r, roc[i])\n",
        "\n",
        "# Curva ROC sem valores repetidos\n",
        "roc = r.reshape((np.int(len(r)/2), 2))\n",
        "\n",
        "S = -simps(roc[:,1], roc[:,0])\n",
        "print('Área da curva: ', S)"
      ],
      "execution_count": null,
      "outputs": [
        {
          "output_type": "stream",
          "text": [
            "Área da curva:  0.8426663542642925\n"
          ],
          "name": "stdout"
        }
      ]
    },
    {
      "cell_type": "code",
      "metadata": {
        "id": "LSbKf3XAObK1",
        "colab": {
          "base_uri": "https://localhost:8080/"
        },
        "outputId": "8db84198-87c6-4711-ac26-596062060f3a"
      },
      "source": [
        "network.save('diabetes')"
      ],
      "execution_count": null,
      "outputs": [
        {
          "output_type": "stream",
          "text": [
            "WARNING:tensorflow:From /usr/local/lib/python3.6/dist-packages/tensorflow/python/training/tracking/tracking.py:111: Model.state_updates (from tensorflow.python.keras.engine.training) is deprecated and will be removed in a future version.\n",
            "Instructions for updating:\n",
            "This property should not be used in TensorFlow 2.0, as updates are applied automatically.\n",
            "WARNING:tensorflow:From /usr/local/lib/python3.6/dist-packages/tensorflow/python/training/tracking/tracking.py:111: Layer.updates (from tensorflow.python.keras.engine.base_layer) is deprecated and will be removed in a future version.\n",
            "Instructions for updating:\n",
            "This property should not be used in TensorFlow 2.0, as updates are applied automatically.\n",
            "INFO:tensorflow:Assets written to: diabetes/assets\n"
          ],
          "name": "stdout"
        }
      ]
    },
    {
      "cell_type": "markdown",
      "metadata": {
        "id": "naGa_58jM5EA"
      },
      "source": [
        "## Referências\n",
        "\n",
        "[1]. World Health Organization, Health Topics, Diabetes. https://www.who.int/health-topics/diabetes#tab=tab_1\n",
        "\n",
        "[2]. Machine Learning Crash Course, Google. https://developers.google.com/machine-learning/crash-course/classification/roc-and-auc"
      ]
    }
  ]
}