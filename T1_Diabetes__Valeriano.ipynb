{
  "nbformat": 4,
  "nbformat_minor": 0,
  "metadata": {
    "colab": {
      "name": "Tarefa1_Diabetes",
      "provenance": [],
      "collapsed_sections": []
    },
    "kernelspec": {
      "name": "python3",
      "display_name": "Python 3"
    }
  },
  "cells": [
    {
      "cell_type": "code",
      "metadata": {
        "id": "XvciAeP96GbL",
        "outputId": "a286c8e7-ebd3-4867-bf8e-4660b43bf863",
        "colab": {
          "base_uri": "https://localhost:8080/",
          "height": 34
        }
      },
      "source": [
        "from google.colab import drive\n",
        "\n",
        "drive.mount(\"/content/gdrive\")  "
      ],
      "execution_count": 1,
      "outputs": [
        {
          "output_type": "stream",
          "text": [
            "Mounted at /content/gdrive\n"
          ],
          "name": "stdout"
        }
      ]
    },
    {
      "cell_type": "code",
      "metadata": {
        "id": "IG6-5-xj83r5",
        "outputId": "2acece74-3d3f-428f-a602-67878ad9eed2",
        "colab": {
          "base_uri": "https://localhost:8080/",
          "height": 765
        }
      },
      "source": [
        "pip install tensorflow numpy matplotlib pandas scipy"
      ],
      "execution_count": 15,
      "outputs": [
        {
          "output_type": "stream",
          "text": [
            "Requirement already satisfied: tensorflow in /usr/local/lib/python3.6/dist-packages (2.3.0)\n",
            "Requirement already satisfied: numpy in /usr/local/lib/python3.6/dist-packages (1.18.5)\n",
            "Requirement already satisfied: matplotlib in /usr/local/lib/python3.6/dist-packages (3.2.2)\n",
            "Requirement already satisfied: pandas in /usr/local/lib/python3.6/dist-packages (1.1.3)\n",
            "Requirement already satisfied: scipy in /usr/local/lib/python3.6/dist-packages (1.4.1)\n",
            "Requirement already satisfied: six>=1.12.0 in /usr/local/lib/python3.6/dist-packages (from tensorflow) (1.15.0)\n",
            "Requirement already satisfied: absl-py>=0.7.0 in /usr/local/lib/python3.6/dist-packages (from tensorflow) (0.10.0)\n",
            "Requirement already satisfied: gast==0.3.3 in /usr/local/lib/python3.6/dist-packages (from tensorflow) (0.3.3)\n",
            "Requirement already satisfied: keras-preprocessing<1.2,>=1.1.1 in /usr/local/lib/python3.6/dist-packages (from tensorflow) (1.1.2)\n",
            "Requirement already satisfied: wrapt>=1.11.1 in /usr/local/lib/python3.6/dist-packages (from tensorflow) (1.12.1)\n",
            "Requirement already satisfied: termcolor>=1.1.0 in /usr/local/lib/python3.6/dist-packages (from tensorflow) (1.1.0)\n",
            "Requirement already satisfied: wheel>=0.26 in /usr/local/lib/python3.6/dist-packages (from tensorflow) (0.35.1)\n",
            "Requirement already satisfied: astunparse==1.6.3 in /usr/local/lib/python3.6/dist-packages (from tensorflow) (1.6.3)\n",
            "Requirement already satisfied: h5py<2.11.0,>=2.10.0 in /usr/local/lib/python3.6/dist-packages (from tensorflow) (2.10.0)\n",
            "Requirement already satisfied: tensorflow-estimator<2.4.0,>=2.3.0 in /usr/local/lib/python3.6/dist-packages (from tensorflow) (2.3.0)\n",
            "Requirement already satisfied: grpcio>=1.8.6 in /usr/local/lib/python3.6/dist-packages (from tensorflow) (1.33.1)\n",
            "Requirement already satisfied: tensorboard<3,>=2.3.0 in /usr/local/lib/python3.6/dist-packages (from tensorflow) (2.3.0)\n",
            "Requirement already satisfied: protobuf>=3.9.2 in /usr/local/lib/python3.6/dist-packages (from tensorflow) (3.12.4)\n",
            "Requirement already satisfied: google-pasta>=0.1.8 in /usr/local/lib/python3.6/dist-packages (from tensorflow) (0.2.0)\n",
            "Requirement already satisfied: opt-einsum>=2.3.2 in /usr/local/lib/python3.6/dist-packages (from tensorflow) (3.3.0)\n",
            "Requirement already satisfied: cycler>=0.10 in /usr/local/lib/python3.6/dist-packages (from matplotlib) (0.10.0)\n",
            "Requirement already satisfied: python-dateutil>=2.1 in /usr/local/lib/python3.6/dist-packages (from matplotlib) (2.8.1)\n",
            "Requirement already satisfied: kiwisolver>=1.0.1 in /usr/local/lib/python3.6/dist-packages (from matplotlib) (1.2.0)\n",
            "Requirement already satisfied: pyparsing!=2.0.4,!=2.1.2,!=2.1.6,>=2.0.1 in /usr/local/lib/python3.6/dist-packages (from matplotlib) (2.4.7)\n",
            "Requirement already satisfied: pytz>=2017.2 in /usr/local/lib/python3.6/dist-packages (from pandas) (2018.9)\n",
            "Requirement already satisfied: requests<3,>=2.21.0 in /usr/local/lib/python3.6/dist-packages (from tensorboard<3,>=2.3.0->tensorflow) (2.23.0)\n",
            "Requirement already satisfied: google-auth<2,>=1.6.3 in /usr/local/lib/python3.6/dist-packages (from tensorboard<3,>=2.3.0->tensorflow) (1.17.2)\n",
            "Requirement already satisfied: werkzeug>=0.11.15 in /usr/local/lib/python3.6/dist-packages (from tensorboard<3,>=2.3.0->tensorflow) (1.0.1)\n",
            "Requirement already satisfied: google-auth-oauthlib<0.5,>=0.4.1 in /usr/local/lib/python3.6/dist-packages (from tensorboard<3,>=2.3.0->tensorflow) (0.4.1)\n",
            "Requirement already satisfied: markdown>=2.6.8 in /usr/local/lib/python3.6/dist-packages (from tensorboard<3,>=2.3.0->tensorflow) (3.3.2)\n",
            "Requirement already satisfied: tensorboard-plugin-wit>=1.6.0 in /usr/local/lib/python3.6/dist-packages (from tensorboard<3,>=2.3.0->tensorflow) (1.7.0)\n",
            "Requirement already satisfied: setuptools>=41.0.0 in /usr/local/lib/python3.6/dist-packages (from tensorboard<3,>=2.3.0->tensorflow) (50.3.0)\n",
            "Requirement already satisfied: idna<3,>=2.5 in /usr/local/lib/python3.6/dist-packages (from requests<3,>=2.21.0->tensorboard<3,>=2.3.0->tensorflow) (2.10)\n",
            "Requirement already satisfied: chardet<4,>=3.0.2 in /usr/local/lib/python3.6/dist-packages (from requests<3,>=2.21.0->tensorboard<3,>=2.3.0->tensorflow) (3.0.4)\n",
            "Requirement already satisfied: certifi>=2017.4.17 in /usr/local/lib/python3.6/dist-packages (from requests<3,>=2.21.0->tensorboard<3,>=2.3.0->tensorflow) (2020.6.20)\n",
            "Requirement already satisfied: urllib3!=1.25.0,!=1.25.1,<1.26,>=1.21.1 in /usr/local/lib/python3.6/dist-packages (from requests<3,>=2.21.0->tensorboard<3,>=2.3.0->tensorflow) (1.24.3)\n",
            "Requirement already satisfied: rsa<5,>=3.1.4; python_version >= \"3\" in /usr/local/lib/python3.6/dist-packages (from google-auth<2,>=1.6.3->tensorboard<3,>=2.3.0->tensorflow) (4.6)\n",
            "Requirement already satisfied: pyasn1-modules>=0.2.1 in /usr/local/lib/python3.6/dist-packages (from google-auth<2,>=1.6.3->tensorboard<3,>=2.3.0->tensorflow) (0.2.8)\n",
            "Requirement already satisfied: cachetools<5.0,>=2.0.0 in /usr/local/lib/python3.6/dist-packages (from google-auth<2,>=1.6.3->tensorboard<3,>=2.3.0->tensorflow) (4.1.1)\n",
            "Requirement already satisfied: requests-oauthlib>=0.7.0 in /usr/local/lib/python3.6/dist-packages (from google-auth-oauthlib<0.5,>=0.4.1->tensorboard<3,>=2.3.0->tensorflow) (1.3.0)\n",
            "Requirement already satisfied: importlib-metadata; python_version < \"3.8\" in /usr/local/lib/python3.6/dist-packages (from markdown>=2.6.8->tensorboard<3,>=2.3.0->tensorflow) (2.0.0)\n",
            "Requirement already satisfied: pyasn1>=0.1.3 in /usr/local/lib/python3.6/dist-packages (from rsa<5,>=3.1.4; python_version >= \"3\"->google-auth<2,>=1.6.3->tensorboard<3,>=2.3.0->tensorflow) (0.4.8)\n",
            "Requirement already satisfied: oauthlib>=3.0.0 in /usr/local/lib/python3.6/dist-packages (from requests-oauthlib>=0.7.0->google-auth-oauthlib<0.5,>=0.4.1->tensorboard<3,>=2.3.0->tensorflow) (3.1.0)\n",
            "Requirement already satisfied: zipp>=0.5 in /usr/local/lib/python3.6/dist-packages (from importlib-metadata; python_version < \"3.8\"->markdown>=2.6.8->tensorboard<3,>=2.3.0->tensorflow) (3.3.1)\n"
          ],
          "name": "stdout"
        }
      ]
    },
    {
      "cell_type": "code",
      "metadata": {
        "id": "h1MMLew186Dp"
      },
      "source": [
        "# Import needed packages\n",
        "import numpy as np # Arrays\n",
        "import pandas as pd # Importing and organizing data\n",
        "import matplotlib.pyplot as plt # Plotting\n",
        "from scipy.integrate import simps # Simpson integration\n",
        "from tensorflow import keras"
      ],
      "execution_count": 16,
      "outputs": []
    },
    {
      "cell_type": "code",
      "metadata": {
        "id": "SMnvHXrq8_3P",
        "outputId": "6031d73a-d15a-4353-f745-302aa6de8ef5",
        "colab": {
          "base_uri": "https://localhost:8080/",
          "height": 119
        }
      },
      "source": [
        "# Get train and validation data\n",
        "train_data_csv = np.array(pd.read_csv(\"/content/gdrive/My Drive/dados_dia/Pima-Diabetes.csv\"))\n",
        "print(train_data_csv.shape)\n",
        "\n",
        "# Separate validation data and label\n",
        "validation_data = train_data_csv[np.int(train_data_csv.shape[0]*.8):,:-1]\n",
        "print(validation_data.shape)\n",
        "validation_label = train_data_csv[np.int(train_data_csv.shape[0]*.8):,-1]\n",
        "print(validation_label.shape)\n",
        "\n",
        "# Separate train data and label\n",
        "train_data = train_data_csv[:np.int(train_data_csv.shape[0]*.8),:-1]\n",
        "print(train_data.shape)\n",
        "train_label = train_data_csv[:np.int(train_data_csv.shape[0]*.8),-1]\n",
        "print(train_label.shape)\n",
        "\n",
        "# Get test data\n",
        "test_data = np.array(pd.read_csv(\"/content/gdrive/My Drive/dados_dia/Test-Group-2.csv\"))\n",
        "print(test_data.shape)"
      ],
      "execution_count": 17,
      "outputs": [
        {
          "output_type": "stream",
          "text": [
            "(757, 9)\n",
            "(152, 8)\n",
            "(152,)\n",
            "(605, 8)\n",
            "(605,)\n",
            "(9, 8)\n"
          ],
          "name": "stdout"
        }
      ]
    },
    {
      "cell_type": "code",
      "metadata": {
        "id": "mTetKAYL-j_b",
        "outputId": "823c289a-8708-4d3b-ed28-60d8b182bdbc",
        "colab": {
          "base_uri": "https://localhost:8080/",
          "height": 391
        }
      },
      "source": [
        "from tensorflow.keras.models import Sequential # Model of sequential layers\n",
        "from tensorflow.keras.layers import Dense, Dropout # Layers to be used\n",
        "\n",
        "# Model definition\n",
        "model = Sequential([\n",
        "                    Dense(1024, activation=\"sigmoid\", input_shape=(8,)),\n",
        "                    Dropout(0.3),\n",
        "                    Dense(512, activation=\"sigmoid\"),\n",
        "                    Dropout(0.2),\n",
        "                    Dense(256, activation=\"sigmoid\"),\n",
        "                    Dropout(0.1),\n",
        "                    Dense(1, activation=\"sigmoid\"),\n",
        "])\n",
        "\n",
        "model.summary()"
      ],
      "execution_count": 18,
      "outputs": [
        {
          "output_type": "stream",
          "text": [
            "Model: \"sequential_1\"\n",
            "_________________________________________________________________\n",
            "Layer (type)                 Output Shape              Param #   \n",
            "=================================================================\n",
            "dense_4 (Dense)              (None, 1024)              9216      \n",
            "_________________________________________________________________\n",
            "dropout_3 (Dropout)          (None, 1024)              0         \n",
            "_________________________________________________________________\n",
            "dense_5 (Dense)              (None, 512)               524800    \n",
            "_________________________________________________________________\n",
            "dropout_4 (Dropout)          (None, 512)               0         \n",
            "_________________________________________________________________\n",
            "dense_6 (Dense)              (None, 256)               131328    \n",
            "_________________________________________________________________\n",
            "dropout_5 (Dropout)          (None, 256)               0         \n",
            "_________________________________________________________________\n",
            "dense_7 (Dense)              (None, 1)                 257       \n",
            "=================================================================\n",
            "Total params: 665,601\n",
            "Trainable params: 665,601\n",
            "Non-trainable params: 0\n",
            "_________________________________________________________________\n"
          ],
          "name": "stdout"
        }
      ]
    },
    {
      "cell_type": "code",
      "metadata": {
        "id": "KYqUcjiRADhN"
      },
      "source": [
        "# Model compilation\n",
        "model.compile(\n",
        "    optimizer = \"adam\",\n",
        "    loss = \"binary_crossentropy\",\n",
        "    metrics = [\"accuracy\"],\n",
        ")"
      ],
      "execution_count": 19,
      "outputs": []
    },
    {
      "cell_type": "code",
      "metadata": {
        "id": "a1xcGmCHAh2q",
        "outputId": "8e31d5fb-a5a0-4c40-97b8-835b524db11f",
        "colab": {
          "base_uri": "https://localhost:8080/",
          "height": 1000
        }
      },
      "source": [
        "# Model fitting\n",
        "history = model.fit(\n",
        "    train_data,\n",
        "    train_label,\n",
        "    epochs = 100,\n",
        "    batch_size = 605,\n",
        ")"
      ],
      "execution_count": 20,
      "outputs": [
        {
          "output_type": "stream",
          "text": [
            "Epoch 1/100\n",
            "1/1 [==============================] - 0s 1ms/step - loss: 0.6990 - accuracy: 0.6545\n",
            "Epoch 2/100\n",
            "1/1 [==============================] - 0s 1ms/step - loss: 0.8783 - accuracy: 0.3471\n",
            "Epoch 3/100\n",
            "1/1 [==============================] - 0s 3ms/step - loss: 0.6636 - accuracy: 0.6132\n",
            "Epoch 4/100\n",
            "1/1 [==============================] - 0s 2ms/step - loss: 0.6647 - accuracy: 0.6545\n",
            "Epoch 5/100\n",
            "1/1 [==============================] - 0s 1ms/step - loss: 0.7406 - accuracy: 0.6545\n",
            "Epoch 6/100\n",
            "1/1 [==============================] - 0s 1ms/step - loss: 0.7091 - accuracy: 0.6545\n",
            "Epoch 7/100\n",
            "1/1 [==============================] - 0s 1ms/step - loss: 0.6590 - accuracy: 0.6545\n",
            "Epoch 8/100\n",
            "1/1 [==============================] - 0s 1ms/step - loss: 0.6283 - accuracy: 0.6529\n",
            "Epoch 9/100\n",
            "1/1 [==============================] - 0s 1ms/step - loss: 0.6423 - accuracy: 0.6479\n",
            "Epoch 10/100\n",
            "1/1 [==============================] - 0s 1ms/step - loss: 0.6660 - accuracy: 0.5950\n",
            "Epoch 11/100\n",
            "1/1 [==============================] - 0s 2ms/step - loss: 0.6674 - accuracy: 0.5802\n",
            "Epoch 12/100\n",
            "1/1 [==============================] - 0s 1ms/step - loss: 0.6502 - accuracy: 0.6380\n",
            "Epoch 13/100\n",
            "1/1 [==============================] - 0s 1ms/step - loss: 0.6267 - accuracy: 0.6496\n",
            "Epoch 14/100\n",
            "1/1 [==============================] - 0s 1ms/step - loss: 0.6206 - accuracy: 0.6562\n",
            "Epoch 15/100\n",
            "1/1 [==============================] - 0s 1ms/step - loss: 0.6309 - accuracy: 0.6529\n",
            "Epoch 16/100\n",
            "1/1 [==============================] - 0s 1ms/step - loss: 0.6335 - accuracy: 0.6545\n",
            "Epoch 17/100\n",
            "1/1 [==============================] - 0s 1ms/step - loss: 0.6372 - accuracy: 0.6545\n",
            "Epoch 18/100\n",
            "1/1 [==============================] - 0s 3ms/step - loss: 0.6363 - accuracy: 0.6579\n",
            "Epoch 19/100\n",
            "1/1 [==============================] - 0s 1ms/step - loss: 0.6176 - accuracy: 0.6595\n",
            "Epoch 20/100\n",
            "1/1 [==============================] - 0s 1ms/step - loss: 0.6231 - accuracy: 0.6463\n",
            "Epoch 21/100\n",
            "1/1 [==============================] - 0s 2ms/step - loss: 0.6116 - accuracy: 0.6612\n",
            "Epoch 22/100\n",
            "1/1 [==============================] - 0s 1ms/step - loss: 0.6040 - accuracy: 0.6793\n",
            "Epoch 23/100\n",
            "1/1 [==============================] - 0s 1ms/step - loss: 0.6087 - accuracy: 0.6810\n",
            "Epoch 24/100\n",
            "1/1 [==============================] - 0s 2ms/step - loss: 0.6099 - accuracy: 0.6645\n",
            "Epoch 25/100\n",
            "1/1 [==============================] - 0s 1ms/step - loss: 0.5895 - accuracy: 0.6810\n",
            "Epoch 26/100\n",
            "1/1 [==============================] - 0s 1ms/step - loss: 0.5955 - accuracy: 0.6860\n",
            "Epoch 27/100\n",
            "1/1 [==============================] - 0s 1ms/step - loss: 0.5948 - accuracy: 0.6711\n",
            "Epoch 28/100\n",
            "1/1 [==============================] - 0s 1ms/step - loss: 0.5932 - accuracy: 0.6628\n",
            "Epoch 29/100\n",
            "1/1 [==============================] - 0s 1ms/step - loss: 0.5945 - accuracy: 0.6777\n",
            "Epoch 30/100\n",
            "1/1 [==============================] - 0s 1ms/step - loss: 0.5817 - accuracy: 0.6810\n",
            "Epoch 31/100\n",
            "1/1 [==============================] - 0s 1ms/step - loss: 0.5798 - accuracy: 0.6926\n",
            "Epoch 32/100\n",
            "1/1 [==============================] - 0s 1ms/step - loss: 0.5830 - accuracy: 0.6942\n",
            "Epoch 33/100\n",
            "1/1 [==============================] - 0s 1ms/step - loss: 0.5738 - accuracy: 0.7008\n",
            "Epoch 34/100\n",
            "1/1 [==============================] - 0s 1ms/step - loss: 0.5785 - accuracy: 0.6777\n",
            "Epoch 35/100\n",
            "1/1 [==============================] - 0s 2ms/step - loss: 0.5648 - accuracy: 0.7240\n",
            "Epoch 36/100\n",
            "1/1 [==============================] - 0s 2ms/step - loss: 0.5761 - accuracy: 0.7041\n",
            "Epoch 37/100\n",
            "1/1 [==============================] - 0s 1ms/step - loss: 0.5749 - accuracy: 0.7008\n",
            "Epoch 38/100\n",
            "1/1 [==============================] - 0s 1ms/step - loss: 0.5706 - accuracy: 0.7207\n",
            "Epoch 39/100\n",
            "1/1 [==============================] - 0s 1ms/step - loss: 0.5638 - accuracy: 0.7256\n",
            "Epoch 40/100\n",
            "1/1 [==============================] - 0s 1ms/step - loss: 0.5591 - accuracy: 0.7091\n",
            "Epoch 41/100\n",
            "1/1 [==============================] - 0s 1ms/step - loss: 0.5610 - accuracy: 0.7157\n",
            "Epoch 42/100\n",
            "1/1 [==============================] - 0s 1ms/step - loss: 0.5553 - accuracy: 0.7223\n",
            "Epoch 43/100\n",
            "1/1 [==============================] - 0s 1ms/step - loss: 0.5524 - accuracy: 0.7322\n",
            "Epoch 44/100\n",
            "1/1 [==============================] - 0s 1ms/step - loss: 0.5447 - accuracy: 0.7174\n",
            "Epoch 45/100\n",
            "1/1 [==============================] - 0s 1ms/step - loss: 0.5582 - accuracy: 0.7174\n",
            "Epoch 46/100\n",
            "1/1 [==============================] - 0s 5ms/step - loss: 0.5389 - accuracy: 0.7372\n",
            "Epoch 47/100\n",
            "1/1 [==============================] - 0s 1ms/step - loss: 0.5312 - accuracy: 0.7421\n",
            "Epoch 48/100\n",
            "1/1 [==============================] - 0s 1ms/step - loss: 0.5385 - accuracy: 0.7207\n",
            "Epoch 49/100\n",
            "1/1 [==============================] - 0s 1ms/step - loss: 0.5466 - accuracy: 0.7157\n",
            "Epoch 50/100\n",
            "1/1 [==============================] - 0s 2ms/step - loss: 0.5338 - accuracy: 0.7273\n",
            "Epoch 51/100\n",
            "1/1 [==============================] - 0s 1ms/step - loss: 0.5232 - accuracy: 0.7455\n",
            "Epoch 52/100\n",
            "1/1 [==============================] - 0s 1ms/step - loss: 0.5218 - accuracy: 0.7405\n",
            "Epoch 53/100\n",
            "1/1 [==============================] - 0s 2ms/step - loss: 0.5217 - accuracy: 0.7504\n",
            "Epoch 54/100\n",
            "1/1 [==============================] - 0s 1ms/step - loss: 0.5196 - accuracy: 0.7355\n",
            "Epoch 55/100\n",
            "1/1 [==============================] - 0s 1ms/step - loss: 0.5183 - accuracy: 0.7421\n",
            "Epoch 56/100\n",
            "1/1 [==============================] - 0s 1ms/step - loss: 0.5205 - accuracy: 0.7471\n",
            "Epoch 57/100\n",
            "1/1 [==============================] - 0s 1ms/step - loss: 0.5187 - accuracy: 0.7455\n",
            "Epoch 58/100\n",
            "1/1 [==============================] - 0s 1ms/step - loss: 0.5116 - accuracy: 0.7471\n",
            "Epoch 59/100\n",
            "1/1 [==============================] - 0s 1ms/step - loss: 0.5081 - accuracy: 0.7521\n",
            "Epoch 60/100\n",
            "1/1 [==============================] - 0s 1ms/step - loss: 0.4938 - accuracy: 0.7785\n",
            "Epoch 61/100\n",
            "1/1 [==============================] - 0s 1ms/step - loss: 0.5036 - accuracy: 0.7636\n",
            "Epoch 62/100\n",
            "1/1 [==============================] - 0s 1ms/step - loss: 0.4939 - accuracy: 0.7653\n",
            "Epoch 63/100\n",
            "1/1 [==============================] - 0s 2ms/step - loss: 0.4964 - accuracy: 0.7587\n",
            "Epoch 64/100\n",
            "1/1 [==============================] - 0s 2ms/step - loss: 0.4921 - accuracy: 0.7603\n",
            "Epoch 65/100\n",
            "1/1 [==============================] - 0s 2ms/step - loss: 0.4912 - accuracy: 0.7702\n",
            "Epoch 66/100\n",
            "1/1 [==============================] - 0s 2ms/step - loss: 0.4880 - accuracy: 0.7719\n",
            "Epoch 67/100\n",
            "1/1 [==============================] - 0s 1ms/step - loss: 0.4950 - accuracy: 0.7488\n",
            "Epoch 68/100\n",
            "1/1 [==============================] - 0s 2ms/step - loss: 0.4868 - accuracy: 0.7736\n",
            "Epoch 69/100\n",
            "1/1 [==============================] - 0s 2ms/step - loss: 0.4891 - accuracy: 0.7521\n",
            "Epoch 70/100\n",
            "1/1 [==============================] - 0s 1ms/step - loss: 0.4902 - accuracy: 0.7603\n",
            "Epoch 71/100\n",
            "1/1 [==============================] - 0s 2ms/step - loss: 0.4777 - accuracy: 0.7736\n",
            "Epoch 72/100\n",
            "1/1 [==============================] - 0s 2ms/step - loss: 0.4687 - accuracy: 0.7868\n",
            "Epoch 73/100\n",
            "1/1 [==============================] - 0s 6ms/step - loss: 0.4714 - accuracy: 0.7669\n",
            "Epoch 74/100\n",
            "1/1 [==============================] - 0s 1ms/step - loss: 0.4749 - accuracy: 0.7636\n",
            "Epoch 75/100\n",
            "1/1 [==============================] - 0s 2ms/step - loss: 0.4843 - accuracy: 0.7752\n",
            "Epoch 76/100\n",
            "1/1 [==============================] - 0s 1ms/step - loss: 0.4705 - accuracy: 0.7620\n",
            "Epoch 77/100\n",
            "1/1 [==============================] - 0s 1ms/step - loss: 0.4697 - accuracy: 0.7818\n",
            "Epoch 78/100\n",
            "1/1 [==============================] - 0s 2ms/step - loss: 0.4717 - accuracy: 0.7802\n",
            "Epoch 79/100\n",
            "1/1 [==============================] - 0s 2ms/step - loss: 0.4792 - accuracy: 0.7669\n",
            "Epoch 80/100\n",
            "1/1 [==============================] - 0s 2ms/step - loss: 0.4596 - accuracy: 0.7719\n",
            "Epoch 81/100\n",
            "1/1 [==============================] - 0s 1ms/step - loss: 0.4705 - accuracy: 0.7636\n",
            "Epoch 82/100\n",
            "1/1 [==============================] - 0s 2ms/step - loss: 0.4589 - accuracy: 0.7653\n",
            "Epoch 83/100\n",
            "1/1 [==============================] - 0s 2ms/step - loss: 0.4691 - accuracy: 0.7686\n",
            "Epoch 84/100\n",
            "1/1 [==============================] - 0s 1ms/step - loss: 0.4558 - accuracy: 0.7868\n",
            "Epoch 85/100\n",
            "1/1 [==============================] - 0s 2ms/step - loss: 0.4745 - accuracy: 0.7570\n",
            "Epoch 86/100\n",
            "1/1 [==============================] - 0s 1ms/step - loss: 0.4679 - accuracy: 0.7620\n",
            "Epoch 87/100\n",
            "1/1 [==============================] - 0s 2ms/step - loss: 0.4633 - accuracy: 0.7868\n",
            "Epoch 88/100\n",
            "1/1 [==============================] - 0s 1ms/step - loss: 0.4548 - accuracy: 0.7719\n",
            "Epoch 89/100\n",
            "1/1 [==============================] - 0s 2ms/step - loss: 0.4628 - accuracy: 0.7554\n",
            "Epoch 90/100\n",
            "1/1 [==============================] - 0s 1ms/step - loss: 0.4506 - accuracy: 0.7901\n",
            "Epoch 91/100\n",
            "1/1 [==============================] - 0s 2ms/step - loss: 0.4511 - accuracy: 0.7802\n",
            "Epoch 92/100\n",
            "1/1 [==============================] - 0s 2ms/step - loss: 0.4647 - accuracy: 0.7868\n",
            "Epoch 93/100\n",
            "1/1 [==============================] - 0s 1ms/step - loss: 0.4516 - accuracy: 0.7818\n",
            "Epoch 94/100\n",
            "1/1 [==============================] - 0s 2ms/step - loss: 0.4447 - accuracy: 0.7769\n",
            "Epoch 95/100\n",
            "1/1 [==============================] - 0s 2ms/step - loss: 0.4486 - accuracy: 0.7835\n",
            "Epoch 96/100\n",
            "1/1 [==============================] - 0s 2ms/step - loss: 0.4627 - accuracy: 0.7653\n",
            "Epoch 97/100\n",
            "1/1 [==============================] - 0s 2ms/step - loss: 0.4547 - accuracy: 0.7868\n",
            "Epoch 98/100\n",
            "1/1 [==============================] - 0s 2ms/step - loss: 0.4459 - accuracy: 0.7818\n",
            "Epoch 99/100\n",
            "1/1 [==============================] - 0s 2ms/step - loss: 0.4676 - accuracy: 0.7785\n",
            "Epoch 100/100\n",
            "1/1 [==============================] - 0s 1ms/step - loss: 0.4548 - accuracy: 0.7669\n"
          ],
          "name": "stdout"
        }
      ]
    },
    {
      "cell_type": "code",
      "metadata": {
        "id": "xrDHrHLSCPDK",
        "outputId": "7ff169e9-9838-44eb-8aef-1532bf0c5ba4",
        "colab": {
          "base_uri": "https://localhost:8080/",
          "height": 51
        }
      },
      "source": [
        "# Model testing\n",
        "model.evaluate(\n",
        "    validation_data,\n",
        "    validation_label\n",
        ")"
      ],
      "execution_count": 21,
      "outputs": [
        {
          "output_type": "stream",
          "text": [
            "5/5 [==============================] - 0s 3ms/step - loss: 0.5011 - accuracy: 0.7500\n"
          ],
          "name": "stdout"
        },
        {
          "output_type": "execute_result",
          "data": {
            "text/plain": [
              "[0.5011223554611206, 0.75]"
            ]
          },
          "metadata": {
            "tags": []
          },
          "execution_count": 21
        }
      ]
    },
    {
      "cell_type": "code",
      "metadata": {
        "id": "pb-qi8ktER4O",
        "outputId": "1a4de077-1995-4785-d05a-a1d717400575",
        "colab": {
          "base_uri": "https://localhost:8080/",
          "height": 269
        }
      },
      "source": [
        "# Show predictions with 0.5 threshold, as expected of a sigmoid fit\n",
        "\n",
        "pred = model.predict(validation_data).flatten() # Make prediction over validation data\n",
        "\n",
        "N = pred[np.where(validation_label == 0)] # Negatives\n",
        "P = pred[np.where(validation_label == 1)] # Positives\n",
        "\n",
        "x1 = np.linspace(0, 1, len(N)) # X axis for negatives\n",
        "x2 = np.linspace(0, 1, len(P)) # X axis for positives\n",
        "\n",
        "# Plotting negatives in blue and positives in red\n",
        "plt.plot(x1, N, \"o\", color=\"blue\", label=\"N\")\n",
        "plt.plot(x2, P, \"o\", color=\"red\", label=\"P\")\n",
        "plt.hlines(0.5, 0, 1)\n",
        "plt.xticks([])\n",
        "plt.ylabel(\"Prediction\")\n",
        "plt.legend(loc=\"best\")\n",
        "plt.show()\n",
        "print(\"0.5 threshold accuracy: %.6f\" % (len(np.where((np.sign(pred-0.5)+1)/2 == validation_label)[0])/len(pred)))"
      ],
      "execution_count": 22,
      "outputs": [
        {
          "output_type": "display_data",
          "data": {
            "image/png": "[encoded data removed]",
            "text/plain": [
              "<Figure size 432x288 with 1 Axes>"
            ]
          },
          "metadata": {
            "tags": [],
            "needs_background": "light"
          }
        },
        {
          "output_type": "stream",
          "text": [
            "0.5 threshold accuracy: 0.750000\n"
          ],
          "name": "stdout"
        }
      ]
    },
    {
      "cell_type": "code",
      "metadata": {
        "id": "0N0G0AEWMqVe",
        "outputId": "a0ff06ec-ac3a-49bd-f418-f747ab5e05d7",
        "colab": {
          "base_uri": "https://localhost:8080/",
          "height": 296
        }
      },
      "source": [
        "# ROC curve\n",
        "def ROC(th, pred, label):\n",
        "\n",
        "    FPR = np.zeros(len(th)) # False positive rate\n",
        "    TPR = np.zeros(len(th)) # True positive rate\n",
        "\n",
        "    N = pred[np.where(label == 0)] # Negatives\n",
        "    P = pred[np.where(label == 1)] # Positives\n",
        "\n",
        "    for i in range(len(th)):\n",
        "    \n",
        "        FN = len(np.where(P <= th[i])[0]) # False negatives\n",
        "\n",
        "        FP = len(np.where(N > th[i])[0]) # False positives\n",
        "\n",
        "        TN = len(np.where(N <= th[i])[0]) # True negatives\n",
        "\n",
        "        TP = len(np.where(P > th[i])[0]) # True positives\n",
        "\n",
        "        FPR[i] = FP /(FP+TN)\n",
        "        TPR[i] = TP /(TP+FN)\n",
        "\n",
        "    result = np.concatenate((FPR, TPR)).reshape((2, len(th))).T\n",
        "\n",
        "    return result[np.argsort(result[:,0])]\n",
        "\n",
        "# Different thresholds\n",
        "threshold = np.linspace(0, 1, 100)\n",
        "\n",
        "# Save ROC curve\n",
        "roc = ROC(threshold, pred, validation_label)\n",
        "\n",
        "# Exclude repeated values to allow integration\n",
        "r = roc[:1]\n",
        "for i in range(1,len(roc)):\n",
        "\n",
        "    if (roc[i,0] != roc[i-1,0]):\n",
        "\n",
        "        r = np.append(r, roc[i])\n",
        "\n",
        "# ROC curve without repeated values\n",
        "roc = r.reshape((np.int(len(r)/2), 2))\n",
        "\n",
        "# Plotting\n",
        "plt.plot(*roc.T)\n",
        "plt.xlabel(\"FPR\")\n",
        "plt.ylabel(\"TPR\")\n",
        "plt.show()\n",
        "\n",
        "# AUC index\n",
        "print(\"AUC:\", simps(roc[:,1], roc[:,0]))"
      ],
      "execution_count": 23,
      "outputs": [
        {
          "output_type": "display_data",
          "data": {
            "image/png": "[encoded data removed]",
            "text/plain": [
              "<Figure size 432x288 with 1 Axes>"
            ]
          },
          "metadata": {
            "tags": [],
            "needs_background": "light"
          }
        },
        {
          "output_type": "stream",
          "text": [
            "AUC: 0.831199364781839\n"
          ],
          "name": "stdout"
        }
      ]
    },
    {
      "cell_type": "code",
      "metadata": {
        "id": "-gkQkfHAeKLN",
        "outputId": "a459fb1b-9220-410e-e815-7914ebadc4d7",
        "colab": {
          "base_uri": "https://localhost:8080/",
          "height": 555
        }
      },
      "source": [
        "# Get best threshold, maximizing TP and TN\n",
        "def fit_threshold(P, N, th_n=1000):\n",
        "\n",
        "    th = np.linspace(0, 1, th_n)\n",
        "    r = np.zeros(len(th))\n",
        "\n",
        "    for i in range(len(th)):\n",
        "\n",
        "        FN = len(np.where(P < th[i])[0]) # False negatives\n",
        "\n",
        "        FP = len(np.where(N > th[i])[0]) # False positives\n",
        "\n",
        "        TN = len(np.where(N < th[i])[0]) # True negatives\n",
        "\n",
        "        TP = len(np.where(P > th[i])[0]) # True positives\n",
        "\n",
        "        r[i] = TN+TP-FN-FP\n",
        "\n",
        "    th_best = th[np.where(r == np.max(r))[0][0]]\n",
        "\n",
        "    x1 = np.linspace(0, 1, len(N)) # X axis for negatives\n",
        "    x2 = np.linspace(0, 1, len(P)) # X axis for positives\n",
        "\n",
        "    # Plotting negatives in blue and positives in red\n",
        "    plt.plot(x1, N, \"o\", color=\"blue\", label=\"N\")\n",
        "    plt.plot(x2, P, \"o\", color=\"red\", label=\"P\")\n",
        "    plt.hlines(th_best, 0, 1)\n",
        "    plt.xticks([])\n",
        "    plt.ylabel(\"Prediction\")\n",
        "    plt.legend(loc=\"upper right\")\n",
        "    plt.show()\n",
        "\n",
        "    return th_best\n",
        "\n",
        "def fit_threshold2(data, label, model, th_n=1000):\n",
        "\n",
        "    th = np.linspace(0, 1, th_n)\n",
        "    r = np.zeros(len(th))\n",
        "\n",
        "    pred = model.predict(data).flatten()\n",
        "\n",
        "    for i in range(len(th)):\n",
        "\n",
        "        r[i] = len(np.where((np.sign(pred-th[i])+1)/2 == label)[0])\n",
        "\n",
        "    th_best = th[np.where(r == np.max(r))[0][0]]\n",
        "\n",
        "    N = pred[np.where(label == 0)] # Negatives\n",
        "    P = pred[np.where(label == 1)] # Positives\n",
        "\n",
        "    x1 = np.linspace(0, 1, len(N)) # X axis for negatives\n",
        "    x2 = np.linspace(0, 1, len(P)) # X axis for positives\n",
        "\n",
        "    # Plotting negatives in blue and positives in red\n",
        "    plt.plot(x1, N, \"o\", color=\"blue\", label=\"N\")\n",
        "    plt.plot(x2, P, \"o\", color=\"red\", label=\"P\")\n",
        "    plt.hlines(th_best, 0, 1)\n",
        "    plt.xticks([])\n",
        "    plt.ylabel(\"Prediction\")\n",
        "    plt.legend(loc=\"upper right\")\n",
        "    plt.show()\n",
        "\n",
        "    return th_best\n",
        "\n",
        "N = pred[np.where(validation_label == 0)] # Negatives\n",
        "P = pred[np.where(validation_label == 1)] # Positives\n",
        "\n",
        "th_best = fit_threshold(P, N, 10000)\n",
        "\n",
        "print(\"Best threshold: %.6f\" % th_best)\n",
        "print(\"%.6f threshold accuracy: %.6f\" % (th_best, len(np.where((np.sign(pred-th_best)+1)/2 == validation_label)[0])/len(pred)))\n",
        "\n",
        "th_best2 = fit_threshold2(validation_data, validation_label, model, 10000)\n",
        "\n",
        "print(\"Best threshold (2nd method): %.6f\" % th_best2)\n",
        "print(\"%.6f threshold accuracy: %.6f\" % (th_best2, len(np.where((np.sign(pred-th_best2)+1)/2 == validation_label)[0])/len(pred)))"
      ],
      "execution_count": 24,
      "outputs": [
        {
          "output_type": "display_data",
          "data": {
            "image/png": "[encoded data removed]",
            "text/plain": [
              "<Figure size 432x288 with 1 Axes>"
            ]
          },
          "metadata": {
            "tags": [],
            "needs_background": "light"
          }
        },
        {
          "output_type": "stream",
          "text": [
            "Best threshold: 0.297330\n",
            "0.297330 threshold accuracy: 0.789474\n"
          ],
          "name": "stdout"
        },
        {
          "output_type": "display_data",
          "data": {
            "image/png": "[encoded data removed]",
            "text/plain": [
              "<Figure size 432x288 with 1 Axes>"
            ]
          },
          "metadata": {
            "tags": [],
            "needs_background": "light"
          }
        },
        {
          "output_type": "stream",
          "text": [
            "Best threshold (2nd method): 0.297330\n",
            "0.297330 threshold accuracy: 0.789474\n"
          ],
          "name": "stdout"
        }
      ]
    },
    {
      "cell_type": "code",
      "metadata": {
        "id": "Zf1jmbZvA1TO",
        "outputId": "eab9a697-26f4-4195-9778-094f74dc8aa1",
        "colab": {
          "base_uri": "https://localhost:8080/",
          "height": 279
        }
      },
      "source": [
        "# Plot ROC marking best threshold point\n",
        "\n",
        "# Different thresholds\n",
        "threshold = np.linspace(0, 1, 1000)\n",
        "\n",
        "# Save ROC curve\n",
        "roc = ROC(threshold, pred, validation_label)\n",
        "\n",
        "# Exclude repeated values to allow integration\n",
        "r = roc[:1]\n",
        "for i in range(1,len(roc)):\n",
        "\n",
        "  if (roc[i,0] != roc[i-1,0]):\n",
        "    \n",
        "    r = np.append(r, roc[i])\n",
        "\n",
        "# ROC curve without repeated values\n",
        "roc = r.reshape((np.int(len(r)/2), 2))\n",
        "\n",
        "# Plotting\n",
        "plt.plot(*roc.T)\n",
        "plt.xlabel(\"FPR\")\n",
        "plt.ylabel(\"TPR\")\n",
        "\n",
        "# Mark best threshold in red on the plot\n",
        "r_best = ROC([th_best], pred, validation_label)\n",
        "plt.scatter(*r_best[0], color=\"red\")\n",
        "plt.show()"
      ],
      "execution_count": 25,
      "outputs": [
        {
          "output_type": "display_data",
          "data": {
            "image/png": "[encoded data removed]",
            "text/plain": [
              "<Figure size 432x288 with 1 Axes>"
            ]
          },
          "metadata": {
            "tags": [],
            "needs_background": "light"
          }
        }
      ]
    },
    {
      "cell_type": "code",
      "metadata": {
        "id": "8J_yIvBvciFv",
        "outputId": "f49b6c77-eb40-4a07-ad07-f92009430337",
        "colab": {
          "base_uri": "https://localhost:8080/",
          "height": 85
        }
      },
      "source": [
        "# Making predictions\n",
        "\n",
        "prediction = model.predict(test_data)\n",
        "\n",
        "print(prediction.flatten()) # Real number prediction\n",
        "print(((np.sign(prediction-0.5)+1)/2).flatten()) # Prediction supposing 0.5 threshold\n",
        "print(((np.sign(prediction-th_best)+1)/2).flatten()) # Prediction according to best threshold"
      ],
      "execution_count": 26,
      "outputs": [
        {
          "output_type": "stream",
          "text": [
            "[0.76561713 0.05741236 0.8934839  0.09042317 0.52962923 0.44601163\n",
            " 0.24246421 0.37514633 0.08189526]\n",
            "[1. 0. 1. 0. 1. 0. 0. 0. 0.]\n",
            "[1. 0. 1. 0. 1. 1. 0. 1. 0.]\n"
          ],
          "name": "stdout"
        }
      ]
    },
    {
      "cell_type": "code",
      "metadata": {
        "id": "az_6k9vVJxGB",
        "outputId": "fc121ab2-4232-4054-fb26-7c0cc116bb45",
        "colab": {
          "base_uri": "https://localhost:8080/",
          "height": 51
        }
      },
      "source": [
        "pred = model.predict(validation_data).flatten()\n",
        "\n",
        "print(\"0.5 threshold accuracy: %.6f\" % (len(np.where((np.sign(pred-0.5)+1)/2 == validation_label)[0])/len(pred)))\n",
        "print(\"%.6f threshold accuracy: %.6f\" % (th_best, len(np.where((np.sign(pred-th_best)+1)/2 == validation_label)[0])/len(pred)))"
      ],
      "execution_count": 27,
      "outputs": [
        {
          "output_type": "stream",
          "text": [
            "0.5 threshold accuracy: 0.750000\n",
            "0.297330 threshold accuracy: 0.789474\n"
          ],
          "name": "stdout"
        }
      ]
    }
  ]
}