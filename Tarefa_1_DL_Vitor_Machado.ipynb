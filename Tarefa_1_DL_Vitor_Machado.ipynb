{
  "nbformat": 4,
  "nbformat_minor": 0,
  "metadata": {
    "colab": {
      "name": "Tarefa 1 DL.ipynb",
      "provenance": []
    },
    "kernelspec": {
      "name": "python3",
      "display_name": "Python 3"
    }
  },
  "cells": [
    {
      "cell_type": "markdown",
      "metadata": {
        "id": "5VDh4Bkk0dEi"
      },
      "source": [
        "Importações de pacotes e dados"
      ]
    },
    {
      "cell_type": "code",
      "metadata": {
        "id": "Z6P-iXKO1N3K"
      },
      "source": [
        "import numpy as np\n",
        "import pandas as pd\n",
        "from tensorflow import keras\n",
        "import matplotlib.pyplot as plt\n",
        "from sklearn.model_selection import train_test_split\n",
        "\n",
        "from tensorflow.keras.optimizers import Adam\n",
        "from tensorflow.keras.models import Sequential\n",
        "from tensorflow.keras.layers import Dense\n",
        "from tensorflow.keras.layers import Dropout"
      ],
      "execution_count": null,
      "outputs": []
    },
    {
      "cell_type": "code",
      "metadata": {
        "id": "J7oP4Chb2QIY"
      },
      "source": [
        "dados = pd.read_csv('drive/My Drive/Colab Google/Tarefa DL 1/Pima-Diabetes.csv', header=None)\n",
        "dados_tarefa = pd.read_csv('drive/My Drive/Colab Google/Tarefa DL 1/Test-Group-2.csv', header=None)"
      ],
      "execution_count": null,
      "outputs": []
    },
    {
      "cell_type": "markdown",
      "metadata": {
        "id": "GiT59Zl-0xgu"
      },
      "source": [
        "Breve exploração dos dados"
      ]
    },
    {
      "cell_type": "code",
      "metadata": {
        "id": "bcK3xaxe0vJk",
        "colab": {
          "base_uri": "https://localhost:8080/",
          "height": 196
        },
        "outputId": "8f4cbab8-1918-4f3c-9312-64220c3f062b"
      },
      "source": [
        "dados.head()"
      ],
      "execution_count": null,
      "outputs": [
        {
          "output_type": "execute_result",
          "data": {
            "text/html": [
              "<div>\n",
              "<style scoped>\n",
              "    .dataframe tbody tr th:only-of-type {\n",
              "        vertical-align: middle;\n",
              "    }\n",
              "\n",
              "    .dataframe tbody tr th {\n",
              "        vertical-align: top;\n",
              "    }\n",
              "\n",
              "    .dataframe thead th {\n",
              "        text-align: right;\n",
              "    }\n",
              "</style>\n",
              "<table border=\"1\" class=\"dataframe\">\n",
              "  <thead>\n",
              "    <tr style=\"text-align: right;\">\n",
              "      <th></th>\n",
              "      <th>0</th>\n",
              "      <th>1</th>\n",
              "      <th>2</th>\n",
              "      <th>3</th>\n",
              "      <th>4</th>\n",
              "      <th>5</th>\n",
              "      <th>6</th>\n",
              "      <th>7</th>\n",
              "      <th>8</th>\n",
              "    </tr>\n",
              "  </thead>\n",
              "  <tbody>\n",
              "    <tr>\n",
              "      <th>0</th>\n",
              "      <td>6</td>\n",
              "      <td>148</td>\n",
              "      <td>72</td>\n",
              "      <td>35</td>\n",
              "      <td>0</td>\n",
              "      <td>33.6</td>\n",
              "      <td>0.627</td>\n",
              "      <td>50</td>\n",
              "      <td>1</td>\n",
              "    </tr>\n",
              "    <tr>\n",
              "      <th>1</th>\n",
              "      <td>1</td>\n",
              "      <td>85</td>\n",
              "      <td>66</td>\n",
              "      <td>29</td>\n",
              "      <td>0</td>\n",
              "      <td>26.6</td>\n",
              "      <td>0.351</td>\n",
              "      <td>31</td>\n",
              "      <td>0</td>\n",
              "    </tr>\n",
              "    <tr>\n",
              "      <th>2</th>\n",
              "      <td>8</td>\n",
              "      <td>183</td>\n",
              "      <td>64</td>\n",
              "      <td>0</td>\n",
              "      <td>0</td>\n",
              "      <td>23.3</td>\n",
              "      <td>0.672</td>\n",
              "      <td>32</td>\n",
              "      <td>1</td>\n",
              "    </tr>\n",
              "    <tr>\n",
              "      <th>3</th>\n",
              "      <td>1</td>\n",
              "      <td>89</td>\n",
              "      <td>66</td>\n",
              "      <td>23</td>\n",
              "      <td>94</td>\n",
              "      <td>28.1</td>\n",
              "      <td>0.167</td>\n",
              "      <td>21</td>\n",
              "      <td>0</td>\n",
              "    </tr>\n",
              "    <tr>\n",
              "      <th>4</th>\n",
              "      <td>0</td>\n",
              "      <td>137</td>\n",
              "      <td>40</td>\n",
              "      <td>35</td>\n",
              "      <td>168</td>\n",
              "      <td>43.1</td>\n",
              "      <td>2.288</td>\n",
              "      <td>33</td>\n",
              "      <td>1</td>\n",
              "    </tr>\n",
              "  </tbody>\n",
              "</table>\n",
              "</div>"
            ],
            "text/plain": [
              "   0    1   2   3    4     5      6   7  8\n",
              "0  6  148  72  35    0  33.6  0.627  50  1\n",
              "1  1   85  66  29    0  26.6  0.351  31  0\n",
              "2  8  183  64   0    0  23.3  0.672  32  1\n",
              "3  1   89  66  23   94  28.1  0.167  21  0\n",
              "4  0  137  40  35  168  43.1  2.288  33  1"
            ]
          },
          "metadata": {
            "tags": []
          },
          "execution_count": 3
        }
      ]
    },
    {
      "cell_type": "code",
      "metadata": {
        "id": "7NDJSMOt2kXB",
        "colab": {
          "base_uri": "https://localhost:8080/",
          "height": 284
        },
        "outputId": "84185a02-4c2a-402a-b8eb-703957fa9efd"
      },
      "source": [
        "dados.info()"
      ],
      "execution_count": null,
      "outputs": [
        {
          "output_type": "stream",
          "text": [
            "<class 'pandas.core.frame.DataFrame'>\n",
            "RangeIndex: 758 entries, 0 to 757\n",
            "Data columns (total 9 columns):\n",
            " #   Column  Non-Null Count  Dtype  \n",
            "---  ------  --------------  -----  \n",
            " 0   0       758 non-null    int64  \n",
            " 1   1       758 non-null    int64  \n",
            " 2   2       758 non-null    int64  \n",
            " 3   3       758 non-null    int64  \n",
            " 4   4       758 non-null    int64  \n",
            " 5   5       758 non-null    float64\n",
            " 6   6       758 non-null    float64\n",
            " 7   7       758 non-null    int64  \n",
            " 8   8       758 non-null    int64  \n",
            "dtypes: float64(2), int64(7)\n",
            "memory usage: 53.4 KB\n"
          ],
          "name": "stdout"
        }
      ]
    },
    {
      "cell_type": "code",
      "metadata": {
        "id": "2u2FCzba4s_C",
        "colab": {
          "base_uri": "https://localhost:8080/",
          "height": 196
        },
        "outputId": "343dcbe7-ef55-40bf-ca27-143c00fce989"
      },
      "source": [
        "dados.columns = ['Col0','Col1','Col2','Col3','Col4','Col5','Col6','Col7','Col8']\n",
        "dados.head()"
      ],
      "execution_count": null,
      "outputs": [
        {
          "output_type": "execute_result",
          "data": {
            "text/html": [
              "<div>\n",
              "<style scoped>\n",
              "    .dataframe tbody tr th:only-of-type {\n",
              "        vertical-align: middle;\n",
              "    }\n",
              "\n",
              "    .dataframe tbody tr th {\n",
              "        vertical-align: top;\n",
              "    }\n",
              "\n",
              "    .dataframe thead th {\n",
              "        text-align: right;\n",
              "    }\n",
              "</style>\n",
              "<table border=\"1\" class=\"dataframe\">\n",
              "  <thead>\n",
              "    <tr style=\"text-align: right;\">\n",
              "      <th></th>\n",
              "      <th>Col0</th>\n",
              "      <th>Col1</th>\n",
              "      <th>Col2</th>\n",
              "      <th>Col3</th>\n",
              "      <th>Col4</th>\n",
              "      <th>Col5</th>\n",
              "      <th>Col6</th>\n",
              "      <th>Col7</th>\n",
              "      <th>Col8</th>\n",
              "    </tr>\n",
              "  </thead>\n",
              "  <tbody>\n",
              "    <tr>\n",
              "      <th>0</th>\n",
              "      <td>6</td>\n",
              "      <td>148</td>\n",
              "      <td>72</td>\n",
              "      <td>35</td>\n",
              "      <td>0</td>\n",
              "      <td>33.6</td>\n",
              "      <td>0.627</td>\n",
              "      <td>50</td>\n",
              "      <td>1</td>\n",
              "    </tr>\n",
              "    <tr>\n",
              "      <th>1</th>\n",
              "      <td>1</td>\n",
              "      <td>85</td>\n",
              "      <td>66</td>\n",
              "      <td>29</td>\n",
              "      <td>0</td>\n",
              "      <td>26.6</td>\n",
              "      <td>0.351</td>\n",
              "      <td>31</td>\n",
              "      <td>0</td>\n",
              "    </tr>\n",
              "    <tr>\n",
              "      <th>2</th>\n",
              "      <td>8</td>\n",
              "      <td>183</td>\n",
              "      <td>64</td>\n",
              "      <td>0</td>\n",
              "      <td>0</td>\n",
              "      <td>23.3</td>\n",
              "      <td>0.672</td>\n",
              "      <td>32</td>\n",
              "      <td>1</td>\n",
              "    </tr>\n",
              "    <tr>\n",
              "      <th>3</th>\n",
              "      <td>1</td>\n",
              "      <td>89</td>\n",
              "      <td>66</td>\n",
              "      <td>23</td>\n",
              "      <td>94</td>\n",
              "      <td>28.1</td>\n",
              "      <td>0.167</td>\n",
              "      <td>21</td>\n",
              "      <td>0</td>\n",
              "    </tr>\n",
              "    <tr>\n",
              "      <th>4</th>\n",
              "      <td>0</td>\n",
              "      <td>137</td>\n",
              "      <td>40</td>\n",
              "      <td>35</td>\n",
              "      <td>168</td>\n",
              "      <td>43.1</td>\n",
              "      <td>2.288</td>\n",
              "      <td>33</td>\n",
              "      <td>1</td>\n",
              "    </tr>\n",
              "  </tbody>\n",
              "</table>\n",
              "</div>"
            ],
            "text/plain": [
              "   Col0  Col1  Col2  Col3  Col4  Col5   Col6  Col7  Col8\n",
              "0     6   148    72    35     0  33.6  0.627    50     1\n",
              "1     1    85    66    29     0  26.6  0.351    31     0\n",
              "2     8   183    64     0     0  23.3  0.672    32     1\n",
              "3     1    89    66    23    94  28.1  0.167    21     0\n",
              "4     0   137    40    35   168  43.1  2.288    33     1"
            ]
          },
          "metadata": {
            "tags": []
          },
          "execution_count": 5
        }
      ]
    },
    {
      "cell_type": "code",
      "metadata": {
        "id": "gw78Hi5k6L3p",
        "colab": {
          "base_uri": "https://localhost:8080/",
          "height": 117
        },
        "outputId": "6aee73b2-cac7-4845-c929-a01d377fef4f"
      },
      "source": [
        "#Separando as labels do conjunto de dados\n",
        "labels = dados['Col8']\n",
        "labels.head()"
      ],
      "execution_count": null,
      "outputs": [
        {
          "output_type": "execute_result",
          "data": {
            "text/plain": [
              "0    1\n",
              "1    0\n",
              "2    1\n",
              "3    0\n",
              "4    1\n",
              "Name: Col8, dtype: int64"
            ]
          },
          "metadata": {
            "tags": []
          },
          "execution_count": 6
        }
      ]
    },
    {
      "cell_type": "code",
      "metadata": {
        "id": "5QdEY9gn6f6I",
        "colab": {
          "base_uri": "https://localhost:8080/",
          "height": 196
        },
        "outputId": "0ad31861-8e60-4add-f9de-d81357036c00"
      },
      "source": [
        "dados = dados.drop('Col8', axis=1)\n",
        "\n",
        "dados.head()"
      ],
      "execution_count": null,
      "outputs": [
        {
          "output_type": "execute_result",
          "data": {
            "text/html": [
              "<div>\n",
              "<style scoped>\n",
              "    .dataframe tbody tr th:only-of-type {\n",
              "        vertical-align: middle;\n",
              "    }\n",
              "\n",
              "    .dataframe tbody tr th {\n",
              "        vertical-align: top;\n",
              "    }\n",
              "\n",
              "    .dataframe thead th {\n",
              "        text-align: right;\n",
              "    }\n",
              "</style>\n",
              "<table border=\"1\" class=\"dataframe\">\n",
              "  <thead>\n",
              "    <tr style=\"text-align: right;\">\n",
              "      <th></th>\n",
              "      <th>Col0</th>\n",
              "      <th>Col1</th>\n",
              "      <th>Col2</th>\n",
              "      <th>Col3</th>\n",
              "      <th>Col4</th>\n",
              "      <th>Col5</th>\n",
              "      <th>Col6</th>\n",
              "      <th>Col7</th>\n",
              "    </tr>\n",
              "  </thead>\n",
              "  <tbody>\n",
              "    <tr>\n",
              "      <th>0</th>\n",
              "      <td>6</td>\n",
              "      <td>148</td>\n",
              "      <td>72</td>\n",
              "      <td>35</td>\n",
              "      <td>0</td>\n",
              "      <td>33.6</td>\n",
              "      <td>0.627</td>\n",
              "      <td>50</td>\n",
              "    </tr>\n",
              "    <tr>\n",
              "      <th>1</th>\n",
              "      <td>1</td>\n",
              "      <td>85</td>\n",
              "      <td>66</td>\n",
              "      <td>29</td>\n",
              "      <td>0</td>\n",
              "      <td>26.6</td>\n",
              "      <td>0.351</td>\n",
              "      <td>31</td>\n",
              "    </tr>\n",
              "    <tr>\n",
              "      <th>2</th>\n",
              "      <td>8</td>\n",
              "      <td>183</td>\n",
              "      <td>64</td>\n",
              "      <td>0</td>\n",
              "      <td>0</td>\n",
              "      <td>23.3</td>\n",
              "      <td>0.672</td>\n",
              "      <td>32</td>\n",
              "    </tr>\n",
              "    <tr>\n",
              "      <th>3</th>\n",
              "      <td>1</td>\n",
              "      <td>89</td>\n",
              "      <td>66</td>\n",
              "      <td>23</td>\n",
              "      <td>94</td>\n",
              "      <td>28.1</td>\n",
              "      <td>0.167</td>\n",
              "      <td>21</td>\n",
              "    </tr>\n",
              "    <tr>\n",
              "      <th>4</th>\n",
              "      <td>0</td>\n",
              "      <td>137</td>\n",
              "      <td>40</td>\n",
              "      <td>35</td>\n",
              "      <td>168</td>\n",
              "      <td>43.1</td>\n",
              "      <td>2.288</td>\n",
              "      <td>33</td>\n",
              "    </tr>\n",
              "  </tbody>\n",
              "</table>\n",
              "</div>"
            ],
            "text/plain": [
              "   Col0  Col1  Col2  Col3  Col4  Col5   Col6  Col7\n",
              "0     6   148    72    35     0  33.6  0.627    50\n",
              "1     1    85    66    29     0  26.6  0.351    31\n",
              "2     8   183    64     0     0  23.3  0.672    32\n",
              "3     1    89    66    23    94  28.1  0.167    21\n",
              "4     0   137    40    35   168  43.1  2.288    33"
            ]
          },
          "metadata": {
            "tags": []
          },
          "execution_count": 7
        }
      ]
    },
    {
      "cell_type": "code",
      "metadata": {
        "id": "UZElkFUQ6wSO",
        "colab": {
          "base_uri": "https://localhost:8080/",
          "height": 50
        },
        "outputId": "eacb6a15-02ad-4ba3-d4c6-f72d891258a7"
      },
      "source": [
        "print(dados.shape)\n",
        "print(labels.shape)"
      ],
      "execution_count": null,
      "outputs": [
        {
          "output_type": "stream",
          "text": [
            "(758, 8)\n",
            "(758,)\n"
          ],
          "name": "stdout"
        }
      ]
    },
    {
      "cell_type": "markdown",
      "metadata": {
        "id": "-Epu37wF2OnX"
      },
      "source": [
        "Separando os dados de treino dos de teste"
      ]
    },
    {
      "cell_type": "code",
      "metadata": {
        "id": "lDtHeocg3Ox6",
        "colab": {
          "base_uri": "https://localhost:8080/",
          "height": 50
        },
        "outputId": "18078b40-7fd9-4189-a97f-4965504e5bcc"
      },
      "source": [
        "X_train, X_test, y_train, y_test = train_test_split(\n",
        "    dados,\n",
        "    labels,\n",
        "    test_size=0.799)\n",
        "\n",
        "print(X_train.shape)\n",
        "print(X_test.shape)"
      ],
      "execution_count": null,
      "outputs": [
        {
          "output_type": "stream",
          "text": [
            "(152, 8)\n",
            "(606, 8)\n"
          ],
          "name": "stdout"
        }
      ]
    },
    {
      "cell_type": "code",
      "metadata": {
        "id": "7Hmq6k7o43__",
        "colab": {
          "base_uri": "https://localhost:8080/",
          "height": 67
        },
        "outputId": "6a95e114-7ece-4e66-ba29-0655d50acf76"
      },
      "source": [
        "y_test.value_counts()"
      ],
      "execution_count": null,
      "outputs": [
        {
          "output_type": "execute_result",
          "data": {
            "text/plain": [
              "0    406\n",
              "1    200\n",
              "Name: Col8, dtype: int64"
            ]
          },
          "metadata": {
            "tags": []
          },
          "execution_count": 10
        }
      ]
    },
    {
      "cell_type": "code",
      "metadata": {
        "id": "S5df5Ure8cOu",
        "colab": {
          "base_uri": "https://localhost:8080/",
          "height": 67
        },
        "outputId": "9312b179-a8b2-4d9c-f31e-710796c0b253"
      },
      "source": [
        "y_train.value_counts()"
      ],
      "execution_count": null,
      "outputs": [
        {
          "output_type": "execute_result",
          "data": {
            "text/plain": [
              "0    87\n",
              "1    65\n",
              "Name: Col8, dtype: int64"
            ]
          },
          "metadata": {
            "tags": []
          },
          "execution_count": 11
        }
      ]
    },
    {
      "cell_type": "markdown",
      "metadata": {
        "id": "TlBA8LO94J1E"
      },
      "source": [
        "Criação, compilação e análise dos resultados do modelo"
      ]
    },
    {
      "cell_type": "code",
      "metadata": {
        "id": "ych4YB9z-zAe",
        "colab": {
          "base_uri": "https://localhost:8080/",
          "height": 686
        },
        "outputId": "c95e077e-bc91-41e8-8d1f-5add3d6a3b02"
      },
      "source": [
        "model = Sequential([\n",
        "  Dense(1000, activation='sigmoid', input_shape=(8,)),\n",
        "  Dropout(0.3),\n",
        "  Dense(500, activation='sigmoid'),\n",
        "  Dropout(0.3),\n",
        "  Dense(1, activation='sigmoid'),\n",
        "])\n",
        "\n",
        "model.compile(optimizer=Adam(),\n",
        "              loss='binary_crossentropy',\n",
        "              metrics=['accuracy'])\n",
        "\n",
        "historico = model.fit(\n",
        "    X_train,\n",
        "    y_train,\n",
        "    epochs=20,\n",
        "    batch_size=605,\n",
        "    validation_data=(X_test, y_test)\n",
        ")"
      ],
      "execution_count": null,
      "outputs": [
        {
          "output_type": "stream",
          "text": [
            "Epoch 1/20\n",
            "1/1 [==============================] - 0s 205ms/step - loss: 0.7362 - accuracy: 0.4737 - val_loss: 1.0295 - val_accuracy: 0.6700\n",
            "Epoch 2/20\n",
            "1/1 [==============================] - 0s 33ms/step - loss: 1.2832 - accuracy: 0.5724 - val_loss: 0.6426 - val_accuracy: 0.6700\n",
            "Epoch 3/20\n",
            "1/1 [==============================] - 0s 33ms/step - loss: 0.7569 - accuracy: 0.5987 - val_loss: 0.9499 - val_accuracy: 0.3300\n",
            "Epoch 4/20\n",
            "1/1 [==============================] - 0s 32ms/step - loss: 0.8489 - accuracy: 0.4474 - val_loss: 1.1158 - val_accuracy: 0.3300\n",
            "Epoch 5/20\n",
            "1/1 [==============================] - 0s 34ms/step - loss: 0.9354 - accuracy: 0.4342 - val_loss: 0.8197 - val_accuracy: 0.3350\n",
            "Epoch 6/20\n",
            "1/1 [==============================] - 0s 33ms/step - loss: 0.7300 - accuracy: 0.5197 - val_loss: 0.6140 - val_accuracy: 0.6617\n",
            "Epoch 7/20\n",
            "1/1 [==============================] - 0s 35ms/step - loss: 0.6775 - accuracy: 0.6316 - val_loss: 0.6300 - val_accuracy: 0.6700\n",
            "Epoch 8/20\n",
            "1/1 [==============================] - 0s 33ms/step - loss: 0.7666 - accuracy: 0.5921 - val_loss: 0.6559 - val_accuracy: 0.6700\n",
            "Epoch 9/20\n",
            "1/1 [==============================] - 0s 32ms/step - loss: 0.8186 - accuracy: 0.5789 - val_loss: 0.6216 - val_accuracy: 0.6766\n",
            "Epoch 10/20\n",
            "1/1 [==============================] - 0s 32ms/step - loss: 0.7320 - accuracy: 0.5658 - val_loss: 0.6010 - val_accuracy: 0.6716\n",
            "Epoch 11/20\n",
            "1/1 [==============================] - 0s 31ms/step - loss: 0.6537 - accuracy: 0.5987 - val_loss: 0.6636 - val_accuracy: 0.6106\n",
            "Epoch 12/20\n",
            "1/1 [==============================] - 0s 32ms/step - loss: 0.6667 - accuracy: 0.5921 - val_loss: 0.7538 - val_accuracy: 0.5231\n",
            "Epoch 13/20\n",
            "1/1 [==============================] - 0s 33ms/step - loss: 0.6830 - accuracy: 0.5461 - val_loss: 0.7720 - val_accuracy: 0.5116\n",
            "Epoch 14/20\n",
            "1/1 [==============================] - 0s 31ms/step - loss: 0.7097 - accuracy: 0.5789 - val_loss: 0.7076 - val_accuracy: 0.5759\n",
            "Epoch 15/20\n",
            "1/1 [==============================] - 0s 32ms/step - loss: 0.6798 - accuracy: 0.5395 - val_loss: 0.6320 - val_accuracy: 0.6271\n",
            "Epoch 16/20\n",
            "1/1 [==============================] - 0s 33ms/step - loss: 0.6227 - accuracy: 0.6382 - val_loss: 0.5994 - val_accuracy: 0.6815\n",
            "Epoch 17/20\n",
            "1/1 [==============================] - 0s 35ms/step - loss: 0.6533 - accuracy: 0.6316 - val_loss: 0.5980 - val_accuracy: 0.6832\n",
            "Epoch 18/20\n",
            "1/1 [==============================] - 0s 32ms/step - loss: 0.6362 - accuracy: 0.6316 - val_loss: 0.5995 - val_accuracy: 0.6815\n",
            "Epoch 19/20\n",
            "1/1 [==============================] - 0s 32ms/step - loss: 0.6423 - accuracy: 0.6447 - val_loss: 0.5953 - val_accuracy: 0.6782\n",
            "Epoch 20/20\n",
            "1/1 [==============================] - 0s 32ms/step - loss: 0.5883 - accuracy: 0.6447 - val_loss: 0.6008 - val_accuracy: 0.6634\n"
          ],
          "name": "stdout"
        }
      ]
    },
    {
      "cell_type": "code",
      "metadata": {
        "id": "GTYMIJl72zCt",
        "colab": {
          "base_uri": "https://localhost:8080/",
          "height": 1000
        },
        "outputId": "e6652643-543e-4fdb-ab86-c9ce7e27e7ca"
      },
      "source": [
        "historico.history"
      ],
      "execution_count": null,
      "outputs": [
        {
          "output_type": "execute_result",
          "data": {
            "text/plain": [
              "{'accuracy': [0.4736842215061188,\n",
              "  0.5723684430122375,\n",
              "  0.5986841917037964,\n",
              "  0.44736841320991516,\n",
              "  0.43421053886413574,\n",
              "  0.5197368264198303,\n",
              "  0.6315789222717285,\n",
              "  0.5921052694320679,\n",
              "  0.5789473652839661,\n",
              "  0.5657894611358643,\n",
              "  0.5986841917037964,\n",
              "  0.5921052694320679,\n",
              "  0.5460526347160339,\n",
              "  0.5789473652839661,\n",
              "  0.5394737124443054,\n",
              "  0.6381579041481018,\n",
              "  0.6315789222717285,\n",
              "  0.6315789222717285,\n",
              "  0.6447368264198303,\n",
              "  0.6447368264198303],\n",
              " 'loss': [0.7361702919006348,\n",
              "  1.2831608057022095,\n",
              "  0.7568638324737549,\n",
              "  0.8489313721656799,\n",
              "  0.9353901743888855,\n",
              "  0.7300164103507996,\n",
              "  0.6774689555168152,\n",
              "  0.7666488289833069,\n",
              "  0.8185677528381348,\n",
              "  0.7319744229316711,\n",
              "  0.653667151927948,\n",
              "  0.6667116284370422,\n",
              "  0.6830454468727112,\n",
              "  0.7097480297088623,\n",
              "  0.6798220276832581,\n",
              "  0.6227126121520996,\n",
              "  0.6532619595527649,\n",
              "  0.636208176612854,\n",
              "  0.6422695517539978,\n",
              "  0.5883366465568542],\n",
              " 'val_accuracy': [0.669966995716095,\n",
              "  0.669966995716095,\n",
              "  0.33003300428390503,\n",
              "  0.33003300428390503,\n",
              "  0.3349834978580475,\n",
              "  0.6617161631584167,\n",
              "  0.669966995716095,\n",
              "  0.669966995716095,\n",
              "  0.6765676736831665,\n",
              "  0.6716171503067017,\n",
              "  0.6105610728263855,\n",
              "  0.5231022834777832,\n",
              "  0.5115511417388916,\n",
              "  0.5759075880050659,\n",
              "  0.6270626783370972,\n",
              "  0.6815181374549866,\n",
              "  0.6831682920455933,\n",
              "  0.6815181374549866,\n",
              "  0.6782178282737732,\n",
              "  0.6633663177490234],\n",
              " 'val_loss': [1.0295419692993164,\n",
              "  0.6426209807395935,\n",
              "  0.9498686790466309,\n",
              "  1.115776777267456,\n",
              "  0.8196981549263,\n",
              "  0.6140108108520508,\n",
              "  0.6300329566001892,\n",
              "  0.6559336185455322,\n",
              "  0.6215506792068481,\n",
              "  0.601013720035553,\n",
              "  0.6635915637016296,\n",
              "  0.753762423992157,\n",
              "  0.7719649076461792,\n",
              "  0.7076232433319092,\n",
              "  0.6320101022720337,\n",
              "  0.5993747711181641,\n",
              "  0.5980044603347778,\n",
              "  0.5995470881462097,\n",
              "  0.595331072807312,\n",
              "  0.6008412837982178]}"
            ]
          },
          "metadata": {
            "tags": []
          },
          "execution_count": 13
        }
      ]
    },
    {
      "cell_type": "code",
      "metadata": {
        "id": "cjFyuBeH2rNm",
        "colab": {
          "base_uri": "https://localhost:8080/",
          "height": 313
        },
        "outputId": "91499edc-413c-4a21-80b9-a84819f0436d"
      },
      "source": [
        "plt.plot(historico.history['accuracy'])\n",
        "plt.plot(historico.history['val_accuracy'])\n",
        "plt.legend(['Treino', 'Validação'])\n",
        "plt.xlabel('Épocas')\n",
        "plt.ylabel('Acurácia')\n",
        "plt.title('Acurácia dos dados de treino e validação')"
      ],
      "execution_count": null,
      "outputs": [
        {
          "output_type": "execute_result",
          "data": {
            "text/plain": [
              "Text(0.5, 1.0, 'Acurácia dos dados de treino e validação')"
            ]
          },
          "metadata": {
            "tags": []
          },
          "execution_count": 14
        },
        {
          "output_type": "display_data",
          "data": {
            "image/png": "[encoded data removed]",
            "text/plain": [
              "<Figure size 432x288 with 1 Axes>"
            ]
          },
          "metadata": {
            "tags": [],
            "needs_background": "light"
          }
        }
      ]
    },
    {
      "cell_type": "code",
      "metadata": {
        "id": "FQw2HLXZ32X2",
        "colab": {
          "base_uri": "https://localhost:8080/",
          "height": 313
        },
        "outputId": "36fc40c5-4e52-4fec-ed7b-1273ae721574"
      },
      "source": [
        "plt.plot(historico.history['loss'])\n",
        "plt.plot(historico.history['val_loss'])\n",
        "plt.legend(['Treino', 'Validação'])\n",
        "plt.xlabel('Épocas')\n",
        "plt.ylabel('Perda')\n",
        "plt.title('Perda dos dados de treino e validação')"
      ],
      "execution_count": null,
      "outputs": [
        {
          "output_type": "execute_result",
          "data": {
            "text/plain": [
              "Text(0.5, 1.0, 'Perda dos dados de treino e validação')"
            ]
          },
          "metadata": {
            "tags": []
          },
          "execution_count": 15
        },
        {
          "output_type": "display_data",
          "data": {
            "image/png": "[encoded data removed]",
            "text/plain": [
              "<Figure size 432x288 with 1 Axes>"
            ]
          },
          "metadata": {
            "tags": [],
            "needs_background": "light"
          }
        }
      ]
    },
    {
      "cell_type": "code",
      "metadata": {
        "id": "11MYdew496Do",
        "colab": {
          "base_uri": "https://localhost:8080/",
          "height": 33
        },
        "outputId": "f4deaf0a-1e59-4b23-c145-9c96f15a5e92"
      },
      "source": [
        "predicoes = model.predict(dados_tarefa)\n",
        "np.argmax(predicoes, axis=1)"
      ],
      "execution_count": null,
      "outputs": [
        {
          "output_type": "execute_result",
          "data": {
            "text/plain": [
              "array([0, 0, 0, 0, 0, 0, 0, 0, 0, 0])"
            ]
          },
          "metadata": {
            "tags": []
          },
          "execution_count": 16
        }
      ]
    }
  ]
}