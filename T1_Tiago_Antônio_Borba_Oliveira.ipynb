{
  "nbformat": 4,
  "nbformat_minor": 0,
  "metadata": {
    "colab": {
      "name": "T1-Tiago Antônio Borba Oliveira",
      "provenance": []
    },
    "kernelspec": {
      "name": "python3",
      "display_name": "Python 3"
    },
    "accelerator": "GPU"
  },
  "cells": [
    {
      "cell_type": "code",
      "metadata": {
        "id": "T8XhFlLqVa57"
      },
      "source": [
        "import tensorflow as tf"
      ],
      "execution_count": 2,
      "outputs": []
    },
    {
      "cell_type": "code",
      "metadata": {
        "id": "pZXui-k0XoXh",
        "outputId": "c8599639-0500-4224-dbb8-b769cedeba9d",
        "colab": {
          "base_uri": "https://localhost:8080/"
        }
      },
      "source": [
        "import pandas as pd\n",
        "\n",
        "from google.colab import drive\n",
        "drive.mount(\"/content/drive\")"
      ],
      "execution_count": 3,
      "outputs": [
        {
          "output_type": "stream",
          "text": [
            "Mounted at /content/drive\n"
          ],
          "name": "stdout"
        }
      ]
    },
    {
      "cell_type": "code",
      "metadata": {
        "id": "8eRGn5ZSZc7F"
      },
      "source": [
        "import numpy as np\n",
        "from tensorflow import keras"
      ],
      "execution_count": 4,
      "outputs": []
    },
    {
      "cell_type": "code",
      "metadata": {
        "id": "gEQou_KYZr5w",
        "outputId": "cf2de98f-1e1c-4537-a2db-197e49f017f8",
        "colab": {
          "base_uri": "https://localhost:8080/"
        }
      },
      "source": [
        "train_data_csv = np.array(pd.read_csv(\"/content/drive/My Drive/Pima-Diabetes.csv\"))\n",
        "print(train_data_csv.shape)"
      ],
      "execution_count": 5,
      "outputs": [
        {
          "output_type": "stream",
          "text": [
            "(757, 9)\n"
          ],
          "name": "stdout"
        }
      ]
    },
    {
      "cell_type": "code",
      "metadata": {
        "id": "v_F3zD56c5PG",
        "outputId": "48102e38-d365-451d-b0fd-52898a5b8611",
        "colab": {
          "base_uri": "https://localhost:8080/"
        }
      },
      "source": [
        "validation_data = train_data_csv[np.int(train_data_csv.shape[0]*.8):,:-1]\n",
        "print(validation_data.shape)\n",
        "validation_label = train_data_csv[np.int(train_data_csv.shape[0]*.8):,-1]\n",
        "print(validation_label.shape)"
      ],
      "execution_count": 6,
      "outputs": [
        {
          "output_type": "stream",
          "text": [
            "(152, 8)\n",
            "(152,)\n"
          ],
          "name": "stdout"
        }
      ]
    },
    {
      "cell_type": "code",
      "metadata": {
        "id": "UMo_cAmqdL1A",
        "outputId": "044eb6c3-0dc6-4871-b5b3-dc819db314e6",
        "colab": {
          "base_uri": "https://localhost:8080/"
        }
      },
      "source": [
        "train_data = train_data_csv[:np.int(train_data_csv.shape[0]*.8),:-1]\n",
        "print(train_data.shape)\n",
        "train_label = train_data_csv[:np.int(train_data_csv.shape[0]*.8),-1]\n",
        "print(train_label.shape)"
      ],
      "execution_count": 7,
      "outputs": [
        {
          "output_type": "stream",
          "text": [
            "(605, 8)\n",
            "(605,)\n"
          ],
          "name": "stdout"
        }
      ]
    },
    {
      "cell_type": "code",
      "metadata": {
        "id": "krXHGA99dPaB",
        "outputId": "dfd4e4f3-65b2-4f0f-d0f6-40f9c7a25323",
        "colab": {
          "base_uri": "https://localhost:8080/"
        }
      },
      "source": [
        "test_data = np.array(pd.read_csv(\"/content/drive/My Drive/Test-Group-2.csv\"))\n",
        "print(test_data.shape)"
      ],
      "execution_count": 8,
      "outputs": [
        {
          "output_type": "stream",
          "text": [
            "(9, 8)\n"
          ],
          "name": "stdout"
        }
      ]
    },
    {
      "cell_type": "code",
      "metadata": {
        "id": "JuITbSxDdmrA"
      },
      "source": [
        "from keras.models import Sequential\n",
        "from keras.layers import Dense\n",
        "#Criação e estruturação da rede\n",
        "model = Sequential()\n",
        "\n",
        "model.add(Dense(units = 16, activation = 'relu', input_dim = 8))\n",
        "model.add(Dense(units = 8, activation = 'relu'))\n",
        "model.add(Dense(units = 6, activation = 'relu'))\n",
        "model.add(Dense(units = 1, activation = 'sigmoid'))"
      ],
      "execution_count": 9,
      "outputs": []
    },
    {
      "cell_type": "code",
      "metadata": {
        "id": "inGkxQsyeGcj",
        "outputId": "8a110ce5-07bb-4f50-b70a-17957aa37faa",
        "colab": {
          "base_uri": "https://localhost:8080/"
        }
      },
      "source": [
        "model.compile(optimizer='rmsprop', loss = 'binary_crossentropy')\n",
        "model.summary()"
      ],
      "execution_count": 10,
      "outputs": [
        {
          "output_type": "stream",
          "text": [
            "Model: \"sequential\"\n",
            "_________________________________________________________________\n",
            "Layer (type)                 Output Shape              Param #   \n",
            "=================================================================\n",
            "dense (Dense)                (None, 16)                144       \n",
            "_________________________________________________________________\n",
            "dense_1 (Dense)              (None, 8)                 136       \n",
            "_________________________________________________________________\n",
            "dense_2 (Dense)              (None, 6)                 54        \n",
            "_________________________________________________________________\n",
            "dense_3 (Dense)              (None, 1)                 7         \n",
            "=================================================================\n",
            "Total params: 341\n",
            "Trainable params: 341\n",
            "Non-trainable params: 0\n",
            "_________________________________________________________________\n"
          ],
          "name": "stdout"
        }
      ]
    },
    {
      "cell_type": "code",
      "metadata": {
        "id": "7ddqVB9cvh-T",
        "outputId": "43a278b9-256a-48a0-9aef-ce3df2e68016",
        "colab": {
          "base_uri": "https://localhost:8080/"
        }
      },
      "source": [
        "model.fit(train_data,train_label,batch_size=None,epochs=100)"
      ],
      "execution_count": 26,
      "outputs": [
        {
          "output_type": "stream",
          "text": [
            "Epoch 1/100\n",
            "19/19 [==============================] - 0s 3ms/step - loss: 0.4368\n",
            "Epoch 2/100\n",
            "19/19 [==============================] - 0s 3ms/step - loss: 0.4338\n",
            "Epoch 3/100\n",
            "19/19 [==============================] - 0s 3ms/step - loss: 0.4385\n",
            "Epoch 4/100\n",
            "19/19 [==============================] - 0s 3ms/step - loss: 0.4399\n",
            "Epoch 5/100\n",
            "19/19 [==============================] - 0s 3ms/step - loss: 0.4287\n",
            "Epoch 6/100\n",
            "19/19 [==============================] - 0s 3ms/step - loss: 0.4336\n",
            "Epoch 7/100\n",
            "19/19 [==============================] - 0s 3ms/step - loss: 0.4277\n",
            "Epoch 8/100\n",
            "19/19 [==============================] - 0s 3ms/step - loss: 0.4296\n",
            "Epoch 9/100\n",
            "19/19 [==============================] - 0s 3ms/step - loss: 0.4354\n",
            "Epoch 10/100\n",
            "19/19 [==============================] - 0s 3ms/step - loss: 0.4361\n",
            "Epoch 11/100\n",
            "19/19 [==============================] - 0s 3ms/step - loss: 0.4419\n",
            "Epoch 12/100\n",
            "19/19 [==============================] - 0s 3ms/step - loss: 0.4337\n",
            "Epoch 13/100\n",
            "19/19 [==============================] - 0s 3ms/step - loss: 0.4354\n",
            "Epoch 14/100\n",
            "19/19 [==============================] - 0s 3ms/step - loss: 0.4337\n",
            "Epoch 15/100\n",
            "19/19 [==============================] - 0s 3ms/step - loss: 0.4346\n",
            "Epoch 16/100\n",
            "19/19 [==============================] - 0s 3ms/step - loss: 0.4290\n",
            "Epoch 17/100\n",
            "19/19 [==============================] - 0s 3ms/step - loss: 0.4326\n",
            "Epoch 18/100\n",
            "19/19 [==============================] - 0s 3ms/step - loss: 0.4363\n",
            "Epoch 19/100\n",
            "19/19 [==============================] - 0s 3ms/step - loss: 0.4336\n",
            "Epoch 20/100\n",
            "19/19 [==============================] - 0s 3ms/step - loss: 0.4305\n",
            "Epoch 21/100\n",
            "19/19 [==============================] - 0s 3ms/step - loss: 0.4259\n",
            "Epoch 22/100\n",
            "19/19 [==============================] - 0s 3ms/step - loss: 0.4345\n",
            "Epoch 23/100\n",
            "19/19 [==============================] - 0s 3ms/step - loss: 0.4356\n",
            "Epoch 24/100\n",
            "19/19 [==============================] - 0s 3ms/step - loss: 0.4402\n",
            "Epoch 25/100\n",
            "19/19 [==============================] - 0s 3ms/step - loss: 0.4290\n",
            "Epoch 26/100\n",
            "19/19 [==============================] - 0s 3ms/step - loss: 0.4284\n",
            "Epoch 27/100\n",
            "19/19 [==============================] - 0s 3ms/step - loss: 0.4336\n",
            "Epoch 28/100\n",
            "19/19 [==============================] - 0s 3ms/step - loss: 0.4221\n",
            "Epoch 29/100\n",
            "19/19 [==============================] - 0s 3ms/step - loss: 0.4300\n",
            "Epoch 30/100\n",
            "19/19 [==============================] - 0s 3ms/step - loss: 0.4331\n",
            "Epoch 31/100\n",
            "19/19 [==============================] - 0s 3ms/step - loss: 0.4304\n",
            "Epoch 32/100\n",
            "19/19 [==============================] - 0s 3ms/step - loss: 0.4350\n",
            "Epoch 33/100\n",
            "19/19 [==============================] - 0s 3ms/step - loss: 0.4353\n",
            "Epoch 34/100\n",
            "19/19 [==============================] - 0s 3ms/step - loss: 0.4296\n",
            "Epoch 35/100\n",
            "19/19 [==============================] - 0s 3ms/step - loss: 0.4285\n",
            "Epoch 36/100\n",
            "19/19 [==============================] - 0s 3ms/step - loss: 0.4346\n",
            "Epoch 37/100\n",
            "19/19 [==============================] - 0s 3ms/step - loss: 0.4333\n",
            "Epoch 38/100\n",
            "19/19 [==============================] - 0s 3ms/step - loss: 0.4270\n",
            "Epoch 39/100\n",
            "19/19 [==============================] - 0s 3ms/step - loss: 0.4439\n",
            "Epoch 40/100\n",
            "19/19 [==============================] - 0s 3ms/step - loss: 0.4237\n",
            "Epoch 41/100\n",
            "19/19 [==============================] - 0s 3ms/step - loss: 0.4308\n",
            "Epoch 42/100\n",
            "19/19 [==============================] - 0s 3ms/step - loss: 0.4288\n",
            "Epoch 43/100\n",
            "19/19 [==============================] - 0s 3ms/step - loss: 0.4380\n",
            "Epoch 44/100\n",
            "19/19 [==============================] - 0s 3ms/step - loss: 0.4249\n",
            "Epoch 45/100\n",
            "19/19 [==============================] - 0s 3ms/step - loss: 0.4240\n",
            "Epoch 46/100\n",
            "19/19 [==============================] - 0s 3ms/step - loss: 0.4386\n",
            "Epoch 47/100\n",
            "19/19 [==============================] - 0s 3ms/step - loss: 0.4339\n",
            "Epoch 48/100\n",
            "19/19 [==============================] - 0s 3ms/step - loss: 0.4220\n",
            "Epoch 49/100\n",
            "19/19 [==============================] - 0s 3ms/step - loss: 0.4204\n",
            "Epoch 50/100\n",
            "19/19 [==============================] - 0s 3ms/step - loss: 0.4319\n",
            "Epoch 51/100\n",
            "19/19 [==============================] - 0s 3ms/step - loss: 0.4221\n",
            "Epoch 52/100\n",
            "19/19 [==============================] - 0s 3ms/step - loss: 0.4290\n",
            "Epoch 53/100\n",
            "19/19 [==============================] - 0s 3ms/step - loss: 0.4271\n",
            "Epoch 54/100\n",
            "19/19 [==============================] - 0s 3ms/step - loss: 0.4306\n",
            "Epoch 55/100\n",
            "19/19 [==============================] - 0s 3ms/step - loss: 0.4236\n",
            "Epoch 56/100\n",
            "19/19 [==============================] - 0s 3ms/step - loss: 0.4168\n",
            "Epoch 57/100\n",
            "19/19 [==============================] - 0s 3ms/step - loss: 0.4283\n",
            "Epoch 58/100\n",
            "19/19 [==============================] - 0s 3ms/step - loss: 0.4352\n",
            "Epoch 59/100\n",
            "19/19 [==============================] - 0s 3ms/step - loss: 0.4207\n",
            "Epoch 60/100\n",
            "19/19 [==============================] - 0s 3ms/step - loss: 0.4211\n",
            "Epoch 61/100\n",
            "19/19 [==============================] - 0s 3ms/step - loss: 0.4259\n",
            "Epoch 62/100\n",
            "19/19 [==============================] - 0s 3ms/step - loss: 0.4186\n",
            "Epoch 63/100\n",
            "19/19 [==============================] - 0s 3ms/step - loss: 0.4255\n",
            "Epoch 64/100\n",
            "19/19 [==============================] - 0s 3ms/step - loss: 0.4253\n",
            "Epoch 65/100\n",
            "19/19 [==============================] - 0s 3ms/step - loss: 0.4301\n",
            "Epoch 66/100\n",
            "19/19 [==============================] - 0s 3ms/step - loss: 0.4195\n",
            "Epoch 67/100\n",
            "19/19 [==============================] - 0s 3ms/step - loss: 0.4226\n",
            "Epoch 68/100\n",
            "19/19 [==============================] - 0s 3ms/step - loss: 0.4308\n",
            "Epoch 69/100\n",
            "19/19 [==============================] - 0s 3ms/step - loss: 0.4193\n",
            "Epoch 70/100\n",
            "19/19 [==============================] - 0s 3ms/step - loss: 0.4203\n",
            "Epoch 71/100\n",
            "19/19 [==============================] - 0s 3ms/step - loss: 0.4228\n",
            "Epoch 72/100\n",
            "19/19 [==============================] - 0s 3ms/step - loss: 0.4258\n",
            "Epoch 73/100\n",
            "19/19 [==============================] - 0s 3ms/step - loss: 0.4188\n",
            "Epoch 74/100\n",
            "19/19 [==============================] - 0s 3ms/step - loss: 0.4236\n",
            "Epoch 75/100\n",
            "19/19 [==============================] - 0s 3ms/step - loss: 0.4230\n",
            "Epoch 76/100\n",
            "19/19 [==============================] - 0s 3ms/step - loss: 0.4322\n",
            "Epoch 77/100\n",
            "19/19 [==============================] - 0s 3ms/step - loss: 0.4185\n",
            "Epoch 78/100\n",
            "19/19 [==============================] - 0s 3ms/step - loss: 0.4198\n",
            "Epoch 79/100\n",
            "19/19 [==============================] - 0s 3ms/step - loss: 0.4157\n",
            "Epoch 80/100\n",
            "19/19 [==============================] - 0s 3ms/step - loss: 0.4247\n",
            "Epoch 81/100\n",
            "19/19 [==============================] - 0s 3ms/step - loss: 0.4159\n",
            "Epoch 82/100\n",
            "19/19 [==============================] - 0s 3ms/step - loss: 0.4143\n",
            "Epoch 83/100\n",
            "19/19 [==============================] - 0s 3ms/step - loss: 0.4257\n",
            "Epoch 84/100\n",
            "19/19 [==============================] - 0s 3ms/step - loss: 0.4186\n",
            "Epoch 85/100\n",
            "19/19 [==============================] - 0s 3ms/step - loss: 0.4206\n",
            "Epoch 86/100\n",
            "19/19 [==============================] - 0s 3ms/step - loss: 0.4204\n",
            "Epoch 87/100\n",
            "19/19 [==============================] - 0s 4ms/step - loss: 0.4200\n",
            "Epoch 88/100\n",
            "19/19 [==============================] - 0s 3ms/step - loss: 0.4238\n",
            "Epoch 89/100\n",
            "19/19 [==============================] - 0s 3ms/step - loss: 0.4244\n",
            "Epoch 90/100\n",
            "19/19 [==============================] - 0s 3ms/step - loss: 0.4222\n",
            "Epoch 91/100\n",
            "19/19 [==============================] - 0s 3ms/step - loss: 0.4239\n",
            "Epoch 92/100\n",
            "19/19 [==============================] - 0s 3ms/step - loss: 0.4179\n",
            "Epoch 93/100\n",
            "19/19 [==============================] - 0s 3ms/step - loss: 0.4183\n",
            "Epoch 94/100\n",
            "19/19 [==============================] - 0s 3ms/step - loss: 0.4245\n",
            "Epoch 95/100\n",
            "19/19 [==============================] - 0s 3ms/step - loss: 0.4167\n",
            "Epoch 96/100\n",
            "19/19 [==============================] - 0s 3ms/step - loss: 0.4160\n",
            "Epoch 97/100\n",
            "19/19 [==============================] - 0s 4ms/step - loss: 0.4139\n",
            "Epoch 98/100\n",
            "19/19 [==============================] - 0s 3ms/step - loss: 0.4274\n",
            "Epoch 99/100\n",
            "19/19 [==============================] - 0s 3ms/step - loss: 0.4212\n",
            "Epoch 100/100\n",
            "19/19 [==============================] - 0s 3ms/step - loss: 0.4177\n"
          ],
          "name": "stdout"
        },
        {
          "output_type": "execute_result",
          "data": {
            "text/plain": [
              "<tensorflow.python.keras.callbacks.History at 0x7f7722c95978>"
            ]
          },
          "metadata": {
            "tags": []
          },
          "execution_count": 26
        }
      ]
    },
    {
      "cell_type": "code",
      "metadata": {
        "id": "_hzeC2jM2gYD",
        "outputId": "6475ac2e-efb7-47c9-f0dc-a7195e1b38b4",
        "colab": {
          "base_uri": "https://localhost:8080/"
        }
      },
      "source": [
        "model.evaluate(validation_data,validation_label)"
      ],
      "execution_count": 27,
      "outputs": [
        {
          "output_type": "stream",
          "text": [
            "5/5 [==============================] - 0s 2ms/step - loss: 0.6834\n"
          ],
          "name": "stdout"
        },
        {
          "output_type": "execute_result",
          "data": {
            "text/plain": [
              "0.6834032535552979"
            ]
          },
          "metadata": {
            "tags": []
          },
          "execution_count": 27
        }
      ]
    }
  ]
}